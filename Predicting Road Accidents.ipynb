{
 "cells": [
  {
   "cell_type": "markdown",
   "metadata": {},
   "source": [
    "# Predicting Road Accidents"
   ]
  },
  {
   "cell_type": "markdown",
   "metadata": {},
   "source": [
    "Luis Terán"
   ]
  },
  {
   "cell_type": "markdown",
   "metadata": {},
   "source": [
    "## 1. Problem statement"
   ]
  },
  {
   "cell_type": "markdown",
   "metadata": {},
   "source": [
    "<p style=\"text-align:justify\">Motor vehicle accidents continue to be one of the leading causes of accidental deaths and injuries in the United States. They are responsible for billions in property damage and other economic losses each year. More than 38,000 people die every year in crashes on U.S. roadways. The U.S. traffic fatality rate is 12.4 deaths per 100,000 inhabitants. An additional 4.4 million are injured seriously enough to require medical attention. Road crashes are the leading cause of death in the U.S. for people aged 1-54 (ASIRT, 2020). </p>"
   ]
  },
  {
   "cell_type": "markdown",
   "metadata": {},
   "source": [
    "<p style=\"text-align:justify\"> In order to identify the cause of the problem, the aim of this project is to identify those factors that influence the most on cars accidents and have a quantitatively estimate of the significance the relationship between the factors and the road accidents.</p>"
   ]
  },
  {
   "cell_type": "markdown",
   "metadata": {},
   "source": [
    "<p style=\"text-align:justify\">Even though this is a sample data from Seattle, this behavior patterns in car accidents can be related to other states or even countries with less amount of data of this problem. So this can be used as a feature reference for prevention of car accidents in all other places.</p>"
   ]
  },
  {
   "cell_type": "markdown",
   "metadata": {},
   "source": [
    "## 2. Data wrangling"
   ]
  },
  {
   "cell_type": "markdown",
   "metadata": {},
   "source": [
    "### 2.1 Importing the dataset"
   ]
  },
  {
   "cell_type": "code",
   "execution_count": 91,
   "metadata": {},
   "outputs": [],
   "source": [
    "import pandas as pd\n",
    "import numpy as np\n",
    "import matplotlib.pyplot as plt\n",
    "import seaborn as sns\n",
    "from sklearn import metrics\n",
    "\n",
    "\n",
    "import warnings\n",
    "warnings.filterwarnings('ignore')\n",
    "\n",
    "import seaborn as sns\n",
    "\n",
    "from sklearn.model_selection import train_test_split\n",
    "from sklearn import preprocessing\n",
    "\n",
    "%matplotlib inline"
   ]
  },
  {
   "cell_type": "markdown",
   "metadata": {},
   "source": [
    "The original dataset was obtained from the Seattle’s government page at:\n",
    "\n",
    "- <https://data.seattle.gov/Land-Base/Collisions/9kas-rb8d> \n",
    "\n",
    "The dataset if available for public access. It was created in April 8, 2020 and last update register is from August 27, 2020. Further information of the dataset is available in:\n",
    "\n",
    "- <https://www.seattle.gov/Documents/Departments/SDOT/GIS/Collisions_OD.pdf>\n"
   ]
  },
  {
   "cell_type": "code",
   "execution_count": 92,
   "metadata": {},
   "outputs": [],
   "source": [
    "np.random.seed(12345)"
   ]
  },
  {
   "cell_type": "code",
   "execution_count": 93,
   "metadata": {
    "scrolled": true
   },
   "outputs": [
    {
     "data": {
      "text/html": [
       "<div>\n",
       "<style scoped>\n",
       "    .dataframe tbody tr th:only-of-type {\n",
       "        vertical-align: middle;\n",
       "    }\n",
       "\n",
       "    .dataframe tbody tr th {\n",
       "        vertical-align: top;\n",
       "    }\n",
       "\n",
       "    .dataframe thead th {\n",
       "        text-align: right;\n",
       "    }\n",
       "</style>\n",
       "<table border=\"1\" class=\"dataframe\">\n",
       "  <thead>\n",
       "    <tr style=\"text-align: right;\">\n",
       "      <th></th>\n",
       "      <th>X</th>\n",
       "      <th>Y</th>\n",
       "      <th>OBJECTID</th>\n",
       "      <th>INCKEY</th>\n",
       "      <th>COLDETKEY</th>\n",
       "      <th>REPORTNO</th>\n",
       "      <th>STATUS</th>\n",
       "      <th>ADDRTYPE</th>\n",
       "      <th>INTKEY</th>\n",
       "      <th>LOCATION</th>\n",
       "      <th>...</th>\n",
       "      <th>ROADCOND</th>\n",
       "      <th>LIGHTCOND</th>\n",
       "      <th>PEDROWNOTGRNT</th>\n",
       "      <th>SDOTCOLNUM</th>\n",
       "      <th>SPEEDING</th>\n",
       "      <th>ST_COLCODE</th>\n",
       "      <th>ST_COLDESC</th>\n",
       "      <th>SEGLANEKEY</th>\n",
       "      <th>CROSSWALKKEY</th>\n",
       "      <th>HITPARKEDCAR</th>\n",
       "    </tr>\n",
       "  </thead>\n",
       "  <tbody>\n",
       "    <tr>\n",
       "      <td>0</td>\n",
       "      <td>1.256033e+06</td>\n",
       "      <td>240501.215914</td>\n",
       "      <td>1</td>\n",
       "      <td>332176</td>\n",
       "      <td>333676</td>\n",
       "      <td>EA40602</td>\n",
       "      <td>Matched</td>\n",
       "      <td>Intersection</td>\n",
       "      <td>26581.0</td>\n",
       "      <td>28TH AVE W AND W DRAVUS ST</td>\n",
       "      <td>...</td>\n",
       "      <td>Dry</td>\n",
       "      <td>Daylight</td>\n",
       "      <td>NaN</td>\n",
       "      <td>NaN</td>\n",
       "      <td>NaN</td>\n",
       "      <td>14</td>\n",
       "      <td>From same direction - both going straight - on...</td>\n",
       "      <td>0</td>\n",
       "      <td>0</td>\n",
       "      <td>N</td>\n",
       "    </tr>\n",
       "    <tr>\n",
       "      <td>1</td>\n",
       "      <td>1.282438e+06</td>\n",
       "      <td>223443.774169</td>\n",
       "      <td>2</td>\n",
       "      <td>328504</td>\n",
       "      <td>330004</td>\n",
       "      <td>EA10294</td>\n",
       "      <td>Unmatched</td>\n",
       "      <td>Block</td>\n",
       "      <td>NaN</td>\n",
       "      <td>LAKE WASHINGTON BLVD BETWEEN LAKESIDE AVE AND ...</td>\n",
       "      <td>...</td>\n",
       "      <td>NaN</td>\n",
       "      <td>NaN</td>\n",
       "      <td>NaN</td>\n",
       "      <td>NaN</td>\n",
       "      <td>NaN</td>\n",
       "      <td></td>\n",
       "      <td>NaN</td>\n",
       "      <td>0</td>\n",
       "      <td>0</td>\n",
       "      <td>Y</td>\n",
       "    </tr>\n",
       "    <tr>\n",
       "      <td>2</td>\n",
       "      <td>1.269233e+06</td>\n",
       "      <td>229465.525407</td>\n",
       "      <td>3</td>\n",
       "      <td>329091</td>\n",
       "      <td>330591</td>\n",
       "      <td>EA15604</td>\n",
       "      <td>Matched</td>\n",
       "      <td>Block</td>\n",
       "      <td>NaN</td>\n",
       "      <td>WESTLAKE AVE N BETWEEN DENNY WAY AND JOHN ST</td>\n",
       "      <td>...</td>\n",
       "      <td>Dry</td>\n",
       "      <td>Daylight</td>\n",
       "      <td>NaN</td>\n",
       "      <td>NaN</td>\n",
       "      <td>NaN</td>\n",
       "      <td>11</td>\n",
       "      <td>From same direction - both going straight - bo...</td>\n",
       "      <td>0</td>\n",
       "      <td>0</td>\n",
       "      <td>N</td>\n",
       "    </tr>\n",
       "  </tbody>\n",
       "</table>\n",
       "<p>3 rows × 40 columns</p>\n",
       "</div>"
      ],
      "text/plain": [
       "              X              Y  OBJECTID  INCKEY  COLDETKEY REPORTNO  \\\n",
       "0  1.256033e+06  240501.215914         1  332176     333676  EA40602   \n",
       "1  1.282438e+06  223443.774169         2  328504     330004  EA10294   \n",
       "2  1.269233e+06  229465.525407         3  329091     330591  EA15604   \n",
       "\n",
       "      STATUS      ADDRTYPE   INTKEY  \\\n",
       "0    Matched  Intersection  26581.0   \n",
       "1  Unmatched         Block      NaN   \n",
       "2    Matched         Block      NaN   \n",
       "\n",
       "                                            LOCATION  ... ROADCOND LIGHTCOND  \\\n",
       "0                         28TH AVE W AND W DRAVUS ST  ...      Dry  Daylight   \n",
       "1  LAKE WASHINGTON BLVD BETWEEN LAKESIDE AVE AND ...  ...      NaN       NaN   \n",
       "2       WESTLAKE AVE N BETWEEN DENNY WAY AND JOHN ST  ...      Dry  Daylight   \n",
       "\n",
       "  PEDROWNOTGRNT SDOTCOLNUM SPEEDING  ST_COLCODE  \\\n",
       "0           NaN        NaN      NaN          14   \n",
       "1           NaN        NaN      NaN               \n",
       "2           NaN        NaN      NaN          11   \n",
       "\n",
       "                                          ST_COLDESC  SEGLANEKEY  \\\n",
       "0  From same direction - both going straight - on...           0   \n",
       "1                                                NaN           0   \n",
       "2  From same direction - both going straight - bo...           0   \n",
       "\n",
       "   CROSSWALKKEY  HITPARKEDCAR  \n",
       "0             0             N  \n",
       "1             0             Y  \n",
       "2             0             N  \n",
       "\n",
       "[3 rows x 40 columns]"
      ]
     },
     "execution_count": 93,
     "metadata": {},
     "output_type": "execute_result"
    }
   ],
   "source": [
    "df = pd.read_csv(\"Collisions.csv\")\n",
    "df.head(3)"
   ]
  },
  {
   "cell_type": "markdown",
   "metadata": {},
   "source": [
    "A first view of the data is displayed, it consists of a set of 40 variables with 220937 observations:"
   ]
  },
  {
   "cell_type": "markdown",
   "metadata": {},
   "source": [
    "The data is split iinto"
   ]
  },
  {
   "cell_type": "markdown",
   "metadata": {},
   "source": [
    "<p style=\"text-align:justify\"> Before selecting the features for predicting it was necessary to state our main prediction objective. We want to know the probability and magnitude of an accident given some characteristics, in this way, the **\"VEHCOUNT\", “INJURIES”, \"SERIOUS INJURIES\", \"FATALITIES\"** variable could be helpful for measuring in some way the severity of accident. These columns represent:</p>\n",
    "\n",
    "- VEHCOUNT: Number of vehicles involved in an accident\n",
    "- INJURIES: Number of injured persons\n",
    "- SERIOUS INJURIES: Number of people with serious injuries\n",
    "- FATALITIES: Fatalities occured\n",
    "\n",
    "<p style=\"text-align:justify\"> The complete dataset was split into two different dataframes. The first one was for feature selection, those variables that can contribute to an accident were selected and joined to this dataframe. On the other hand, there were selected other variables for additional information. The aim of this dataset is for getting a better understanding of the data and the problem.</p>\n"
   ]
  },
  {
   "cell_type": "code",
   "execution_count": 94,
   "metadata": {},
   "outputs": [],
   "source": [
    "features = ['UNDERINFL', 'WEATHER', 'ROADCOND', 'LIGHTCOND', 'SPEEDING', 'VEHCOUNT', 'INJURIES','SERIOUSINJURIES','FATALITIES']\n",
    "additionalInfo = ['X', 'Y', 'SEVERITYDESC', 'COLLISIONTYPE', 'PEDCOUNT', 'PEDCYLCOUNT', 'VEHCOUNT', 'INJURIES', \n",
    "                 'SERIOUSINJURIES', 'FATALITIES', 'INJURIES','SERIOUSINJURIES','FATALITIES']"
   ]
  },
  {
   "cell_type": "code",
   "execution_count": 95,
   "metadata": {},
   "outputs": [],
   "source": [
    "dfInfo = df[additionalInfo].copy()\n",
    "df = df[features].copy()"
   ]
  },
  {
   "cell_type": "code",
   "execution_count": 96,
   "metadata": {
    "scrolled": true
   },
   "outputs": [
    {
     "data": {
      "text/html": [
       "<div>\n",
       "<style scoped>\n",
       "    .dataframe tbody tr th:only-of-type {\n",
       "        vertical-align: middle;\n",
       "    }\n",
       "\n",
       "    .dataframe tbody tr th {\n",
       "        vertical-align: top;\n",
       "    }\n",
       "\n",
       "    .dataframe thead th {\n",
       "        text-align: right;\n",
       "    }\n",
       "</style>\n",
       "<table border=\"1\" class=\"dataframe\">\n",
       "  <thead>\n",
       "    <tr style=\"text-align: right;\">\n",
       "      <th></th>\n",
       "      <th>UNDERINFL</th>\n",
       "      <th>WEATHER</th>\n",
       "      <th>ROADCOND</th>\n",
       "      <th>LIGHTCOND</th>\n",
       "      <th>SPEEDING</th>\n",
       "      <th>VEHCOUNT</th>\n",
       "      <th>INJURIES</th>\n",
       "      <th>SERIOUSINJURIES</th>\n",
       "      <th>FATALITIES</th>\n",
       "    </tr>\n",
       "  </thead>\n",
       "  <tbody>\n",
       "    <tr>\n",
       "      <td>0</td>\n",
       "      <td>N</td>\n",
       "      <td>Overcast</td>\n",
       "      <td>Dry</td>\n",
       "      <td>Daylight</td>\n",
       "      <td>NaN</td>\n",
       "      <td>2</td>\n",
       "      <td>1</td>\n",
       "      <td>0</td>\n",
       "      <td>0</td>\n",
       "    </tr>\n",
       "    <tr>\n",
       "      <td>1</td>\n",
       "      <td>NaN</td>\n",
       "      <td>NaN</td>\n",
       "      <td>NaN</td>\n",
       "      <td>NaN</td>\n",
       "      <td>NaN</td>\n",
       "      <td>0</td>\n",
       "      <td>0</td>\n",
       "      <td>0</td>\n",
       "      <td>0</td>\n",
       "    </tr>\n",
       "    <tr>\n",
       "      <td>2</td>\n",
       "      <td>N</td>\n",
       "      <td>Clear</td>\n",
       "      <td>Dry</td>\n",
       "      <td>Daylight</td>\n",
       "      <td>NaN</td>\n",
       "      <td>2</td>\n",
       "      <td>0</td>\n",
       "      <td>0</td>\n",
       "      <td>0</td>\n",
       "    </tr>\n",
       "    <tr>\n",
       "      <td>3</td>\n",
       "      <td>N</td>\n",
       "      <td>Raining</td>\n",
       "      <td>Wet</td>\n",
       "      <td>Dark - Street Lights On</td>\n",
       "      <td>NaN</td>\n",
       "      <td>4</td>\n",
       "      <td>0</td>\n",
       "      <td>0</td>\n",
       "      <td>0</td>\n",
       "    </tr>\n",
       "    <tr>\n",
       "      <td>4</td>\n",
       "      <td>N</td>\n",
       "      <td>Clear</td>\n",
       "      <td>Dry</td>\n",
       "      <td>Daylight</td>\n",
       "      <td>NaN</td>\n",
       "      <td>2</td>\n",
       "      <td>1</td>\n",
       "      <td>0</td>\n",
       "      <td>0</td>\n",
       "    </tr>\n",
       "  </tbody>\n",
       "</table>\n",
       "</div>"
      ],
      "text/plain": [
       "  UNDERINFL   WEATHER ROADCOND                LIGHTCOND SPEEDING  VEHCOUNT  \\\n",
       "0         N  Overcast      Dry                 Daylight      NaN         2   \n",
       "1       NaN       NaN      NaN                      NaN      NaN         0   \n",
       "2         N     Clear      Dry                 Daylight      NaN         2   \n",
       "3         N   Raining      Wet  Dark - Street Lights On      NaN         4   \n",
       "4         N     Clear      Dry                 Daylight      NaN         2   \n",
       "\n",
       "   INJURIES  SERIOUSINJURIES  FATALITIES  \n",
       "0         1                0           0  \n",
       "1         0                0           0  \n",
       "2         0                0           0  \n",
       "3         0                0           0  \n",
       "4         1                0           0  "
      ]
     },
     "execution_count": 96,
     "metadata": {},
     "output_type": "execute_result"
    }
   ],
   "source": [
    "df.head()"
   ]
  },
  {
   "cell_type": "markdown",
   "metadata": {},
   "source": [
    "### 2.2 Null values"
   ]
  },
  {
   "cell_type": "markdown",
   "metadata": {},
   "source": [
    "Before we start with the pre-processing process we first need to take care of NULL values. A NULL value in a table is a value in a field that appears to be blank. We first need to know the amount of the NULL values in the dataset to understand how these NULL values are affecting the dataset."
   ]
  },
  {
   "cell_type": "code",
   "execution_count": 97,
   "metadata": {
    "scrolled": true
   },
   "outputs": [
    {
     "data": {
      "text/html": [
       "<div>\n",
       "<style scoped>\n",
       "    .dataframe tbody tr th:only-of-type {\n",
       "        vertical-align: middle;\n",
       "    }\n",
       "\n",
       "    .dataframe tbody tr th {\n",
       "        vertical-align: top;\n",
       "    }\n",
       "\n",
       "    .dataframe thead th {\n",
       "        text-align: right;\n",
       "    }\n",
       "</style>\n",
       "<table border=\"1\" class=\"dataframe\">\n",
       "  <thead>\n",
       "    <tr style=\"text-align: right;\">\n",
       "      <th></th>\n",
       "      <th>UNDERINFL</th>\n",
       "      <th>WEATHER</th>\n",
       "      <th>ROADCOND</th>\n",
       "      <th>LIGHTCOND</th>\n",
       "      <th>SPEEDING</th>\n",
       "      <th>VEHCOUNT</th>\n",
       "      <th>INJURIES</th>\n",
       "      <th>SERIOUSINJURIES</th>\n",
       "      <th>FATALITIES</th>\n",
       "    </tr>\n",
       "  </thead>\n",
       "  <tbody>\n",
       "    <tr>\n",
       "      <td>Null count</td>\n",
       "      <td>26251.000000</td>\n",
       "      <td>26460.000000</td>\n",
       "      <td>26380.000000</td>\n",
       "      <td>26548.000000</td>\n",
       "      <td>211039.00000</td>\n",
       "      <td>0.0</td>\n",
       "      <td>0.0</td>\n",
       "      <td>0.0</td>\n",
       "      <td>0.0</td>\n",
       "    </tr>\n",
       "    <tr>\n",
       "      <td>Null percentage</td>\n",
       "      <td>11.881668</td>\n",
       "      <td>11.976265</td>\n",
       "      <td>11.940055</td>\n",
       "      <td>12.016095</td>\n",
       "      <td>95.51999</td>\n",
       "      <td>0.0</td>\n",
       "      <td>0.0</td>\n",
       "      <td>0.0</td>\n",
       "      <td>0.0</td>\n",
       "    </tr>\n",
       "  </tbody>\n",
       "</table>\n",
       "</div>"
      ],
      "text/plain": [
       "                    UNDERINFL       WEATHER      ROADCOND     LIGHTCOND  \\\n",
       "Null count       26251.000000  26460.000000  26380.000000  26548.000000   \n",
       "Null percentage     11.881668     11.976265     11.940055     12.016095   \n",
       "\n",
       "                     SPEEDING  VEHCOUNT  INJURIES  SERIOUSINJURIES  FATALITIES  \n",
       "Null count       211039.00000       0.0       0.0              0.0         0.0  \n",
       "Null percentage      95.51999       0.0       0.0              0.0         0.0  "
      ]
     },
     "execution_count": 97,
     "metadata": {},
     "output_type": "execute_result"
    }
   ],
   "source": [
    "nulls = df.isna().sum().to_frame()\n",
    "nulls.columns = ['Null count']\n",
    "nulls['Null percentage'] = nulls['Null count']/(df.shape[0])*100\n",
    "nulls.T"
   ]
  },
  {
   "cell_type": "markdown",
   "metadata": {},
   "source": [
    "<p style=\"text-align:justify\"> As we see, for most of the columns there is about a 12% of NULL values. The exception to this rule are the \"SEVERITYCODE\" column but especially the \"SPEEDING\" column that has over a 95% of NULL values, this will be explain later. For now, since our NULL values in the data are not a significant amount and considering the number of observations in the dataset, we can drop the whole row with presence of NULL values on it for simplicity, exluding those present in the \"SPEEDING\" column. We still get 194209 observations out of the 220937 observations in the original dataset (about 88% of the data). </p>"
   ]
  },
  {
   "cell_type": "code",
   "execution_count": 98,
   "metadata": {},
   "outputs": [],
   "source": [
    "df.dropna(subset=['UNDERINFL','WEATHER','ROADCOND','LIGHTCOND','VEHCOUNT','INJURIES','SERIOUSINJURIES','FATALITIES'], \n",
    "          inplace = True)"
   ]
  },
  {
   "cell_type": "code",
   "execution_count": 99,
   "metadata": {},
   "outputs": [
    {
     "data": {
      "text/plain": [
       "(194209, 9)"
      ]
     },
     "execution_count": 99,
     "metadata": {},
     "output_type": "execute_result"
    }
   ],
   "source": [
    "df.shape"
   ]
  },
  {
   "cell_type": "markdown",
   "metadata": {},
   "source": [
    "<p style=\"text-align:justify\"> Furthermore, now the data needs to be in a format such that the Machine Learning algorithms can process it. For that, the categorical data needs to be transformed into an integer equivalent. First, we need to transform all categorical data into a defined values for every parameter</p>"
   ]
  },
  {
   "cell_type": "code",
   "execution_count": 100,
   "metadata": {
    "scrolled": true
   },
   "outputs": [
    {
     "data": {
      "text/html": [
       "<div>\n",
       "<style scoped>\n",
       "    .dataframe tbody tr th:only-of-type {\n",
       "        vertical-align: middle;\n",
       "    }\n",
       "\n",
       "    .dataframe tbody tr th {\n",
       "        vertical-align: top;\n",
       "    }\n",
       "\n",
       "    .dataframe thead th {\n",
       "        text-align: right;\n",
       "    }\n",
       "</style>\n",
       "<table border=\"1\" class=\"dataframe\">\n",
       "  <thead>\n",
       "    <tr style=\"text-align: right;\">\n",
       "      <th></th>\n",
       "      <th>UNDERINFL</th>\n",
       "      <th>WEATHER</th>\n",
       "      <th>ROADCOND</th>\n",
       "      <th>LIGHTCOND</th>\n",
       "      <th>SPEEDING</th>\n",
       "      <th>VEHCOUNT</th>\n",
       "      <th>INJURIES</th>\n",
       "      <th>SERIOUSINJURIES</th>\n",
       "      <th>FATALITIES</th>\n",
       "    </tr>\n",
       "  </thead>\n",
       "  <tbody>\n",
       "    <tr>\n",
       "      <td>0</td>\n",
       "      <td>object</td>\n",
       "      <td>object</td>\n",
       "      <td>object</td>\n",
       "      <td>object</td>\n",
       "      <td>object</td>\n",
       "      <td>int64</td>\n",
       "      <td>int64</td>\n",
       "      <td>int64</td>\n",
       "      <td>int64</td>\n",
       "    </tr>\n",
       "  </tbody>\n",
       "</table>\n",
       "</div>"
      ],
      "text/plain": [
       "  UNDERINFL WEATHER ROADCOND LIGHTCOND SPEEDING VEHCOUNT INJURIES  \\\n",
       "0    object  object   object    object   object    int64    int64   \n",
       "\n",
       "  SERIOUSINJURIES FATALITIES  \n",
       "0           int64      int64  "
      ]
     },
     "execution_count": 100,
     "metadata": {},
     "output_type": "execute_result"
    }
   ],
   "source": [
    "df.dtypes.to_frame().T"
   ]
  },
  {
   "cell_type": "markdown",
   "metadata": {},
   "source": [
    "### 2.3 Influence of drugs or alcohol"
   ]
  },
  {
   "cell_type": "code",
   "execution_count": 101,
   "metadata": {},
   "outputs": [
    {
     "data": {
      "text/html": [
       "<div>\n",
       "<style scoped>\n",
       "    .dataframe tbody tr th:only-of-type {\n",
       "        vertical-align: middle;\n",
       "    }\n",
       "\n",
       "    .dataframe tbody tr th {\n",
       "        vertical-align: top;\n",
       "    }\n",
       "\n",
       "    .dataframe thead th {\n",
       "        text-align: right;\n",
       "    }\n",
       "</style>\n",
       "<table border=\"1\" class=\"dataframe\">\n",
       "  <thead>\n",
       "    <tr style=\"text-align: right;\">\n",
       "      <th></th>\n",
       "      <th>UNDERINFL</th>\n",
       "    </tr>\n",
       "  </thead>\n",
       "  <tbody>\n",
       "    <tr>\n",
       "      <td>N</td>\n",
       "      <td>102948</td>\n",
       "    </tr>\n",
       "    <tr>\n",
       "      <td>0</td>\n",
       "      <td>81658</td>\n",
       "    </tr>\n",
       "    <tr>\n",
       "      <td>Y</td>\n",
       "      <td>5373</td>\n",
       "    </tr>\n",
       "    <tr>\n",
       "      <td>1</td>\n",
       "      <td>4230</td>\n",
       "    </tr>\n",
       "  </tbody>\n",
       "</table>\n",
       "</div>"
      ],
      "text/plain": [
       "   UNDERINFL\n",
       "N     102948\n",
       "0      81658\n",
       "Y       5373\n",
       "1       4230"
      ]
     },
     "execution_count": 101,
     "metadata": {},
     "output_type": "execute_result"
    }
   ],
   "source": [
    "df['UNDERINFL'].value_counts().to_frame()"
   ]
  },
  {
   "cell_type": "markdown",
   "metadata": {},
   "source": [
    "Consequently, is necessary to do the same for the \"UNDERINFL\" column. In this case, the result should be \"0\" for no influence of drugs or alcohol and \"1\" for influence. Instead we have a combination between 0/1 and Y/N observations. We will replace all the character observations to their corresponding number."
   ]
  },
  {
   "cell_type": "code",
   "execution_count": 102,
   "metadata": {},
   "outputs": [
    {
     "data": {
      "text/html": [
       "<div>\n",
       "<style scoped>\n",
       "    .dataframe tbody tr th:only-of-type {\n",
       "        vertical-align: middle;\n",
       "    }\n",
       "\n",
       "    .dataframe tbody tr th {\n",
       "        vertical-align: top;\n",
       "    }\n",
       "\n",
       "    .dataframe thead th {\n",
       "        text-align: right;\n",
       "    }\n",
       "</style>\n",
       "<table border=\"1\" class=\"dataframe\">\n",
       "  <thead>\n",
       "    <tr style=\"text-align: right;\">\n",
       "      <th></th>\n",
       "      <th>UNDERINFL</th>\n",
       "    </tr>\n",
       "  </thead>\n",
       "  <tbody>\n",
       "    <tr>\n",
       "      <td>0</td>\n",
       "      <td>184606</td>\n",
       "    </tr>\n",
       "    <tr>\n",
       "      <td>1</td>\n",
       "      <td>9603</td>\n",
       "    </tr>\n",
       "  </tbody>\n",
       "</table>\n",
       "</div>"
      ],
      "text/plain": [
       "   UNDERINFL\n",
       "0     184606\n",
       "1       9603"
      ]
     },
     "execution_count": 102,
     "metadata": {},
     "output_type": "execute_result"
    }
   ],
   "source": [
    "# Replacing 3's for 4's\n",
    "df['UNDERINFL'].replace('N', '0', inplace = True)\n",
    "# Replacing 2b's for 3's\n",
    "df['UNDERINFL'].replace('Y', '1', inplace = True)\n",
    "# Converting the string values to integers\n",
    "df['UNDERINFL'].astype(int)\n",
    "# New set of values\n",
    "df['UNDERINFL'].value_counts().to_frame()"
   ]
  },
  {
   "cell_type": "markdown",
   "metadata": {},
   "source": [
    "### 2.4 Weather"
   ]
  },
  {
   "cell_type": "code",
   "execution_count": 103,
   "metadata": {},
   "outputs": [
    {
     "data": {
      "text/html": [
       "<div>\n",
       "<style scoped>\n",
       "    .dataframe tbody tr th:only-of-type {\n",
       "        vertical-align: middle;\n",
       "    }\n",
       "\n",
       "    .dataframe tbody tr th {\n",
       "        vertical-align: top;\n",
       "    }\n",
       "\n",
       "    .dataframe thead th {\n",
       "        text-align: right;\n",
       "    }\n",
       "</style>\n",
       "<table border=\"1\" class=\"dataframe\">\n",
       "  <thead>\n",
       "    <tr style=\"text-align: right;\">\n",
       "      <th></th>\n",
       "      <th>WEATHER</th>\n",
       "    </tr>\n",
       "  </thead>\n",
       "  <tbody>\n",
       "    <tr>\n",
       "      <td>Clear</td>\n",
       "      <td>114157</td>\n",
       "    </tr>\n",
       "    <tr>\n",
       "      <td>Raining</td>\n",
       "      <td>33974</td>\n",
       "    </tr>\n",
       "    <tr>\n",
       "      <td>Overcast</td>\n",
       "      <td>28461</td>\n",
       "    </tr>\n",
       "    <tr>\n",
       "      <td>Unknown</td>\n",
       "      <td>15079</td>\n",
       "    </tr>\n",
       "    <tr>\n",
       "      <td>Snowing</td>\n",
       "      <td>913</td>\n",
       "    </tr>\n",
       "    <tr>\n",
       "      <td>Other</td>\n",
       "      <td>843</td>\n",
       "    </tr>\n",
       "    <tr>\n",
       "      <td>Fog/Smog/Smoke</td>\n",
       "      <td>576</td>\n",
       "    </tr>\n",
       "    <tr>\n",
       "      <td>Sleet/Hail/Freezing Rain</td>\n",
       "      <td>116</td>\n",
       "    </tr>\n",
       "    <tr>\n",
       "      <td>Blowing Sand/Dirt</td>\n",
       "      <td>55</td>\n",
       "    </tr>\n",
       "    <tr>\n",
       "      <td>Severe Crosswind</td>\n",
       "      <td>26</td>\n",
       "    </tr>\n",
       "    <tr>\n",
       "      <td>Partly Cloudy</td>\n",
       "      <td>9</td>\n",
       "    </tr>\n",
       "  </tbody>\n",
       "</table>\n",
       "</div>"
      ],
      "text/plain": [
       "                          WEATHER\n",
       "Clear                      114157\n",
       "Raining                     33974\n",
       "Overcast                    28461\n",
       "Unknown                     15079\n",
       "Snowing                       913\n",
       "Other                         843\n",
       "Fog/Smog/Smoke                576\n",
       "Sleet/Hail/Freezing Rain      116\n",
       "Blowing Sand/Dirt              55\n",
       "Severe Crosswind               26\n",
       "Partly Cloudy                   9"
      ]
     },
     "execution_count": 103,
     "metadata": {},
     "output_type": "execute_result"
    }
   ],
   "source": [
    "df['WEATHER'].value_counts().to_frame()"
   ]
  },
  {
   "cell_type": "markdown",
   "metadata": {},
   "source": [
    "The weather is represented by a lot categorical values that are needed to transfom into integer values. For the transformation, a dictionary was created containing all the numerical and what they represent. For the case of the weather, the numerical values represent:\n",
    "\n",
    "1. Clear\n",
    "2. Raining\n",
    "3. Overcast\n",
    "4. Snowing\n",
    "5. Fog/Smog/Smoke\n",
    "6. Sleet/Hail/Freezing Rain\n",
    "7. Blowing Sand/Dirt\n",
    "8. Severe Crosswind\n",
    "9. Partly Cloudy\n",
    "10. Other or unknown"
   ]
  },
  {
   "cell_type": "code",
   "execution_count": 104,
   "metadata": {},
   "outputs": [],
   "source": [
    "# Dictionary of reference for replacement in weather\n",
    "cleanup_nums = {\"WEATHER\": {\"Clear\": 1, \"Partly Cloudy\": 2, \"Overcast\": 3, \"Raining\": 4,\n",
    "                             \"Severe Crosswind\": 5, \"Sleet/Hail/Freezing Rain\": 6, \"Snowing\": 7, \n",
    "                            \"Fog/Smog/Smoke\": 8, \"Blowing Sand/Dirt\": 9, \"Other\": 10, \"Unknown\": 10}}\n",
    "# Replacing all the ellements for the defined numbers in the dictionary\n",
    "df.replace(cleanup_nums, inplace = True)\n",
    "# Converting the string values to integers\n",
    "df['UNDERINFL'] = df['UNDERINFL'].astype(int)"
   ]
  },
  {
   "cell_type": "markdown",
   "metadata": {},
   "source": [
    "### 2.5 Road condition"
   ]
  },
  {
   "cell_type": "code",
   "execution_count": 105,
   "metadata": {},
   "outputs": [
    {
     "data": {
      "text/html": [
       "<div>\n",
       "<style scoped>\n",
       "    .dataframe tbody tr th:only-of-type {\n",
       "        vertical-align: middle;\n",
       "    }\n",
       "\n",
       "    .dataframe tbody tr th {\n",
       "        vertical-align: top;\n",
       "    }\n",
       "\n",
       "    .dataframe thead th {\n",
       "        text-align: right;\n",
       "    }\n",
       "</style>\n",
       "<table border=\"1\" class=\"dataframe\">\n",
       "  <thead>\n",
       "    <tr style=\"text-align: right;\">\n",
       "      <th></th>\n",
       "      <th>ROADCOND</th>\n",
       "    </tr>\n",
       "  </thead>\n",
       "  <tbody>\n",
       "    <tr>\n",
       "      <td>Dry</td>\n",
       "      <td>127863</td>\n",
       "    </tr>\n",
       "    <tr>\n",
       "      <td>Wet</td>\n",
       "      <td>48634</td>\n",
       "    </tr>\n",
       "    <tr>\n",
       "      <td>Unknown</td>\n",
       "      <td>15081</td>\n",
       "    </tr>\n",
       "    <tr>\n",
       "      <td>Ice</td>\n",
       "      <td>1228</td>\n",
       "    </tr>\n",
       "    <tr>\n",
       "      <td>Snow/Slush</td>\n",
       "      <td>1009</td>\n",
       "    </tr>\n",
       "    <tr>\n",
       "      <td>Other</td>\n",
       "      <td>135</td>\n",
       "    </tr>\n",
       "    <tr>\n",
       "      <td>Standing Water</td>\n",
       "      <td>119</td>\n",
       "    </tr>\n",
       "    <tr>\n",
       "      <td>Sand/Mud/Dirt</td>\n",
       "      <td>76</td>\n",
       "    </tr>\n",
       "    <tr>\n",
       "      <td>Oil</td>\n",
       "      <td>64</td>\n",
       "    </tr>\n",
       "  </tbody>\n",
       "</table>\n",
       "</div>"
      ],
      "text/plain": [
       "                ROADCOND\n",
       "Dry               127863\n",
       "Wet                48634\n",
       "Unknown            15081\n",
       "Ice                 1228\n",
       "Snow/Slush          1009\n",
       "Other                135\n",
       "Standing Water       119\n",
       "Sand/Mud/Dirt         76\n",
       "Oil                   64"
      ]
     },
     "execution_count": 105,
     "metadata": {},
     "output_type": "execute_result"
    }
   ],
   "source": [
    "df['ROADCOND'].value_counts().to_frame()"
   ]
  },
  {
   "cell_type": "markdown",
   "metadata": {},
   "source": [
    "In the case of the \"ROADCOND\" column, its values are all categorical and need to be transformed into integer numbers as mentioned before. This will be made by the following dictionary.\n",
    "\n",
    "1. Dry\n",
    "2. Wet\n",
    "3. Ice\n",
    "4. Snow/Slush\n",
    "5. Standing water\n",
    "6. Sand/Mud/Dirt\n",
    "7. Oil\n",
    "8. Other/Unknown\n"
   ]
  },
  {
   "cell_type": "code",
   "execution_count": 106,
   "metadata": {},
   "outputs": [],
   "source": [
    "# Dictionary of reference for replacement in weather\n",
    "cleanup_nums = {\"ROADCOND\": {\"Dry\": 1, \"Sand/Mud/Dirt\": 2, \"Wet\": 3, \"Standing Water\": 4,  \"Snow/Slush\": 5, \n",
    "                             \"Ice\": 6, \"Oil\": 7, \"Other\": 8, \"Unknown\": 8}}\n",
    "# Replacing all the ellements for the defined numbers in the dictionary\n",
    "df.replace(cleanup_nums, inplace = True)\n",
    "# Converting the string values to integers\n",
    "df['ROADCOND'] = df['ROADCOND'].astype(int)"
   ]
  },
  {
   "cell_type": "markdown",
   "metadata": {},
   "source": [
    "### 2.6 Light condition"
   ]
  },
  {
   "cell_type": "code",
   "execution_count": 107,
   "metadata": {
    "scrolled": true
   },
   "outputs": [
    {
     "data": {
      "text/html": [
       "<div>\n",
       "<style scoped>\n",
       "    .dataframe tbody tr th:only-of-type {\n",
       "        vertical-align: middle;\n",
       "    }\n",
       "\n",
       "    .dataframe tbody tr th {\n",
       "        vertical-align: top;\n",
       "    }\n",
       "\n",
       "    .dataframe thead th {\n",
       "        text-align: right;\n",
       "    }\n",
       "</style>\n",
       "<table border=\"1\" class=\"dataframe\">\n",
       "  <thead>\n",
       "    <tr style=\"text-align: right;\">\n",
       "      <th></th>\n",
       "      <th>LIGHTCOND</th>\n",
       "    </tr>\n",
       "  </thead>\n",
       "  <tbody>\n",
       "    <tr>\n",
       "      <td>Daylight</td>\n",
       "      <td>119018</td>\n",
       "    </tr>\n",
       "    <tr>\n",
       "      <td>Dark - Street Lights On</td>\n",
       "      <td>49969</td>\n",
       "    </tr>\n",
       "    <tr>\n",
       "      <td>Unknown</td>\n",
       "      <td>13502</td>\n",
       "    </tr>\n",
       "    <tr>\n",
       "      <td>Dusk</td>\n",
       "      <td>6061</td>\n",
       "    </tr>\n",
       "    <tr>\n",
       "      <td>Dawn</td>\n",
       "      <td>2596</td>\n",
       "    </tr>\n",
       "    <tr>\n",
       "      <td>Dark - No Street Lights</td>\n",
       "      <td>1571</td>\n",
       "    </tr>\n",
       "    <tr>\n",
       "      <td>Dark - Street Lights Off</td>\n",
       "      <td>1229</td>\n",
       "    </tr>\n",
       "    <tr>\n",
       "      <td>Other</td>\n",
       "      <td>243</td>\n",
       "    </tr>\n",
       "    <tr>\n",
       "      <td>Dark - Unknown Lighting</td>\n",
       "      <td>20</td>\n",
       "    </tr>\n",
       "  </tbody>\n",
       "</table>\n",
       "</div>"
      ],
      "text/plain": [
       "                          LIGHTCOND\n",
       "Daylight                     119018\n",
       "Dark - Street Lights On       49969\n",
       "Unknown                       13502\n",
       "Dusk                           6061\n",
       "Dawn                           2596\n",
       "Dark - No Street Lights        1571\n",
       "Dark - Street Lights Off       1229\n",
       "Other                           243\n",
       "Dark - Unknown Lighting          20"
      ]
     },
     "execution_count": 107,
     "metadata": {},
     "output_type": "execute_result"
    }
   ],
   "source": [
    "df['LIGHTCOND'].value_counts().to_frame()"
   ]
  },
  {
   "cell_type": "markdown",
   "metadata": {},
   "source": [
    "In the same way as happened with the previous columns, the \"LIGHTCOND\" column need to be transformed into integer numbers through a dictionary with the following representative  values.\n",
    "\n",
    "1. Daylight\n",
    "2. Dark – Street Lights On\n",
    "3. Unknown\n",
    "4. Dusk\n",
    "5. Dawn\n",
    "6. Dark – No Street Lights\n",
    "7. Dark – Street Lights On\n",
    "8. Dark – Unknown Lighting\n",
    "9. Other\n"
   ]
  },
  {
   "cell_type": "code",
   "execution_count": 108,
   "metadata": {},
   "outputs": [],
   "source": [
    "# Dictionary of reference for replacement in weather\n",
    "cleanup_nums = {\"LIGHTCOND\": {\"Daylight\": 1, \"Dawn\": 2, \"Dusk\": 3, \"Dark - Street Lights On\": 4, \n",
    "                              \"Dark - Unknown Lighting\": 7, \"Dark - Street Lights Off\": 6,\n",
    "                              \"Dark - No Street Lights\": 5,\"Other\": 8, \"Unknown\": 8}}\n",
    "# Replacing all the ellements for the defined numbers in the dictionary\n",
    "df.replace(cleanup_nums, inplace = True)\n",
    "# Converting the string values to integers\n",
    "df['LIGHTCOND'] = df['LIGHTCOND'].astype(int)"
   ]
  },
  {
   "cell_type": "markdown",
   "metadata": {},
   "source": [
    "### 2.7 Speeding"
   ]
  },
  {
   "cell_type": "code",
   "execution_count": 109,
   "metadata": {},
   "outputs": [
    {
     "data": {
      "text/html": [
       "<div>\n",
       "<style scoped>\n",
       "    .dataframe tbody tr th:only-of-type {\n",
       "        vertical-align: middle;\n",
       "    }\n",
       "\n",
       "    .dataframe tbody tr th {\n",
       "        vertical-align: top;\n",
       "    }\n",
       "\n",
       "    .dataframe thead th {\n",
       "        text-align: right;\n",
       "    }\n",
       "</style>\n",
       "<table border=\"1\" class=\"dataframe\">\n",
       "  <thead>\n",
       "    <tr style=\"text-align: right;\">\n",
       "      <th></th>\n",
       "      <th>SPEEDING</th>\n",
       "    </tr>\n",
       "  </thead>\n",
       "  <tbody>\n",
       "    <tr>\n",
       "      <td>Y</td>\n",
       "      <td>9881</td>\n",
       "    </tr>\n",
       "  </tbody>\n",
       "</table>\n",
       "</div>"
      ],
      "text/plain": [
       "   SPEEDING\n",
       "Y      9881"
      ]
     },
     "execution_count": 109,
     "metadata": {},
     "output_type": "execute_result"
    }
   ],
   "source": [
    "df['SPEEDING'].value_counts().to_frame()"
   ]
  },
  {
   "cell_type": "markdown",
   "metadata": {},
   "source": [
    "For the last feature, we can see that it has only one value with a very few counts. Since it is a boolean variable, it coulb be interpreted that all the missing values are the opposite case of the filled ones. For that reason, all the missing values are defined as \"0\". Also the string values of \"Y\" are trasformed into its equivalent \"1\"."
   ]
  },
  {
   "cell_type": "code",
   "execution_count": 110,
   "metadata": {},
   "outputs": [],
   "source": [
    "# Replacing all null values with 0\n",
    "df.loc[(~(df['SPEEDING'] == 'Y')), 'SPEEDING'] = 0\n",
    "# Replacing Y's to 1's\n",
    "df['SPEEDING'].replace('Y', '1', inplace = True)\n",
    "# Converting the string values to integers\n",
    "df['SPEEDING'] = df['SPEEDING'].astype(int)"
   ]
  },
  {
   "cell_type": "code",
   "execution_count": 111,
   "metadata": {},
   "outputs": [
    {
     "data": {
      "text/html": [
       "<div>\n",
       "<style scoped>\n",
       "    .dataframe tbody tr th:only-of-type {\n",
       "        vertical-align: middle;\n",
       "    }\n",
       "\n",
       "    .dataframe tbody tr th {\n",
       "        vertical-align: top;\n",
       "    }\n",
       "\n",
       "    .dataframe thead th {\n",
       "        text-align: right;\n",
       "    }\n",
       "</style>\n",
       "<table border=\"1\" class=\"dataframe\">\n",
       "  <thead>\n",
       "    <tr style=\"text-align: right;\">\n",
       "      <th></th>\n",
       "      <th>SPEEDING</th>\n",
       "    </tr>\n",
       "  </thead>\n",
       "  <tbody>\n",
       "    <tr>\n",
       "      <td>0</td>\n",
       "      <td>184328</td>\n",
       "    </tr>\n",
       "    <tr>\n",
       "      <td>1</td>\n",
       "      <td>9881</td>\n",
       "    </tr>\n",
       "  </tbody>\n",
       "</table>\n",
       "</div>"
      ],
      "text/plain": [
       "   SPEEDING\n",
       "0    184328\n",
       "1      9881"
      ]
     },
     "execution_count": 111,
     "metadata": {},
     "output_type": "execute_result"
    }
   ],
   "source": [
    "df['SPEEDING'].value_counts().to_frame()"
   ]
  },
  {
   "cell_type": "markdown",
   "metadata": {},
   "source": [
    "### 2.8 Severity of the accident"
   ]
  },
  {
   "cell_type": "markdown",
   "metadata": {},
   "source": [
    "For the measurement of the probability of the severity of the damage we need a way to evaluate the total damage. This can be made by the total contribution of injuries, fatalities and involved vehicles. Also, this can be set with some weights for representing that some events cause more severity. For this case, we'll use the formula:\n",
    "\n",
    "SEVERITY = CRASHED VEHICLES + 5\\*INJURIES + 10\\*SERIOUS INJURIES + 20\\* FATALITIES"
   ]
  },
  {
   "cell_type": "code",
   "execution_count": 112,
   "metadata": {},
   "outputs": [],
   "source": [
    "df['INJURIES'] = df['INJURIES'].astype(int)\n",
    "df['SERIOUSINJURIES'] = df['SERIOUSINJURIES'].astype(int)\n",
    "df['FATALITIES'] = df['FATALITIES'].astype(int)\n",
    "df['VEHCOUNT'] = df['VEHCOUNT'].astype(int)\n",
    "\n",
    "df['SEVERITY'] = df['VEHCOUNT'] + 5*df['INJURIES'] + 10*df['SERIOUSINJURIES'] + 20*df['FATALITIES']"
   ]
  },
  {
   "cell_type": "markdown",
   "metadata": {},
   "source": [
    "By making these we would like to create different categories according to the output values in this column, getting a different type of severity for every input:\n",
    "\n",
    "1. Type 1 (0 - 4): No incident or a few car crashes with no injuries or fatalities\n",
    "2. Type 2 (5 - 9): One injured person and multiple car crashes\n",
    "3. Type 3 (10 - 20): Multiple Injuries or a serious injured person, with multiple car crashes \n",
    "4. Type 4 (>20): Sever accident. A lot of injured persons, more than one serious injured person or a fatalitie occured\n",
    "\n",
    "These range of values are defined as bins and labeled accordingly"
   ]
  },
  {
   "cell_type": "code",
   "execution_count": 113,
   "metadata": {},
   "outputs": [],
   "source": [
    "type1 = 0\n",
    "type2 = 5\n",
    "type3 = 10\n",
    "type4 = 20\n",
    "\n",
    "df['SEV'] = pd.cut(df['SEVERITY'], bins=[type1, type2, type3, type4, float('Inf')], labels=['1', '2', '3', '4'])"
   ]
  },
  {
   "cell_type": "markdown",
   "metadata": {},
   "source": [
    "Once the severity of the accident is classfied into categories, for further analysis is necessary to take care of NULL vaues present in this column. Verifying the column we can see that the null correspond to the type 1 accident (Any incident), so the values are replaced to the corresponding value (Type 1 = 1). Also, the values are transformed from categorical (String) to integers values (int)."
   ]
  },
  {
   "cell_type": "code",
   "execution_count": 114,
   "metadata": {},
   "outputs": [
    {
     "data": {
      "text/html": [
       "<div>\n",
       "<style scoped>\n",
       "    .dataframe tbody tr th:only-of-type {\n",
       "        vertical-align: middle;\n",
       "    }\n",
       "\n",
       "    .dataframe tbody tr th {\n",
       "        vertical-align: top;\n",
       "    }\n",
       "\n",
       "    .dataframe thead th {\n",
       "        text-align: right;\n",
       "    }\n",
       "</style>\n",
       "<table border=\"1\" class=\"dataframe\">\n",
       "  <thead>\n",
       "    <tr style=\"text-align: right;\">\n",
       "      <th></th>\n",
       "      <th>UNDERINFL</th>\n",
       "      <th>WEATHER</th>\n",
       "      <th>ROADCOND</th>\n",
       "      <th>LIGHTCOND</th>\n",
       "      <th>SPEEDING</th>\n",
       "      <th>VEHCOUNT</th>\n",
       "      <th>INJURIES</th>\n",
       "      <th>SERIOUSINJURIES</th>\n",
       "      <th>FATALITIES</th>\n",
       "      <th>SEVERITY</th>\n",
       "      <th>SEV</th>\n",
       "    </tr>\n",
       "  </thead>\n",
       "  <tbody>\n",
       "    <tr>\n",
       "      <td>151332</td>\n",
       "      <td>0</td>\n",
       "      <td>1</td>\n",
       "      <td>1</td>\n",
       "      <td>1</td>\n",
       "      <td>0</td>\n",
       "      <td>0</td>\n",
       "      <td>0</td>\n",
       "      <td>0</td>\n",
       "      <td>0</td>\n",
       "      <td>0</td>\n",
       "      <td>NaN</td>\n",
       "    </tr>\n",
       "    <tr>\n",
       "      <td>162919</td>\n",
       "      <td>0</td>\n",
       "      <td>1</td>\n",
       "      <td>1</td>\n",
       "      <td>1</td>\n",
       "      <td>0</td>\n",
       "      <td>0</td>\n",
       "      <td>0</td>\n",
       "      <td>0</td>\n",
       "      <td>0</td>\n",
       "      <td>0</td>\n",
       "      <td>NaN</td>\n",
       "    </tr>\n",
       "    <tr>\n",
       "      <td>214842</td>\n",
       "      <td>0</td>\n",
       "      <td>1</td>\n",
       "      <td>1</td>\n",
       "      <td>1</td>\n",
       "      <td>0</td>\n",
       "      <td>0</td>\n",
       "      <td>0</td>\n",
       "      <td>0</td>\n",
       "      <td>0</td>\n",
       "      <td>0</td>\n",
       "      <td>NaN</td>\n",
       "    </tr>\n",
       "  </tbody>\n",
       "</table>\n",
       "</div>"
      ],
      "text/plain": [
       "        UNDERINFL  WEATHER  ROADCOND  LIGHTCOND  SPEEDING  VEHCOUNT  INJURIES  \\\n",
       "151332          0        1         1          1         0         0         0   \n",
       "162919          0        1         1          1         0         0         0   \n",
       "214842          0        1         1          1         0         0         0   \n",
       "\n",
       "        SERIOUSINJURIES  FATALITIES  SEVERITY  SEV  \n",
       "151332                0           0         0  NaN  \n",
       "162919                0           0         0  NaN  \n",
       "214842                0           0         0  NaN  "
      ]
     },
     "execution_count": 114,
     "metadata": {},
     "output_type": "execute_result"
    }
   ],
   "source": [
    "df[df['SEV'].isnull()]"
   ]
  },
  {
   "cell_type": "code",
   "execution_count": 115,
   "metadata": {},
   "outputs": [],
   "source": [
    "df['SEV'] = df['SEV'].replace(np.nan, 1)\n",
    "df['SEV'] = df['SEV'].astype(int)"
   ]
  },
  {
   "cell_type": "markdown",
   "metadata": {},
   "source": [
    "## 3. Exploratory data analysis"
   ]
  },
  {
   "cell_type": "code",
   "execution_count": 116,
   "metadata": {},
   "outputs": [
    {
     "data": {
      "text/html": [
       "<div>\n",
       "<style scoped>\n",
       "    .dataframe tbody tr th:only-of-type {\n",
       "        vertical-align: middle;\n",
       "    }\n",
       "\n",
       "    .dataframe tbody tr th {\n",
       "        vertical-align: top;\n",
       "    }\n",
       "\n",
       "    .dataframe thead th {\n",
       "        text-align: right;\n",
       "    }\n",
       "</style>\n",
       "<table border=\"1\" class=\"dataframe\">\n",
       "  <thead>\n",
       "    <tr style=\"text-align: right;\">\n",
       "      <th></th>\n",
       "      <th>UNDERINFL</th>\n",
       "      <th>WEATHER</th>\n",
       "      <th>ROADCOND</th>\n",
       "      <th>LIGHTCOND</th>\n",
       "      <th>SPEEDING</th>\n",
       "      <th>VEHCOUNT</th>\n",
       "      <th>INJURIES</th>\n",
       "      <th>SERIOUSINJURIES</th>\n",
       "      <th>FATALITIES</th>\n",
       "      <th>SEVERITY</th>\n",
       "      <th>SEV</th>\n",
       "    </tr>\n",
       "  </thead>\n",
       "  <tbody>\n",
       "    <tr>\n",
       "      <td>0</td>\n",
       "      <td>0</td>\n",
       "      <td>3</td>\n",
       "      <td>1</td>\n",
       "      <td>1</td>\n",
       "      <td>0</td>\n",
       "      <td>2</td>\n",
       "      <td>1</td>\n",
       "      <td>0</td>\n",
       "      <td>0</td>\n",
       "      <td>7</td>\n",
       "      <td>2</td>\n",
       "    </tr>\n",
       "    <tr>\n",
       "      <td>2</td>\n",
       "      <td>0</td>\n",
       "      <td>1</td>\n",
       "      <td>1</td>\n",
       "      <td>1</td>\n",
       "      <td>0</td>\n",
       "      <td>2</td>\n",
       "      <td>0</td>\n",
       "      <td>0</td>\n",
       "      <td>0</td>\n",
       "      <td>2</td>\n",
       "      <td>1</td>\n",
       "    </tr>\n",
       "    <tr>\n",
       "      <td>3</td>\n",
       "      <td>0</td>\n",
       "      <td>4</td>\n",
       "      <td>3</td>\n",
       "      <td>4</td>\n",
       "      <td>0</td>\n",
       "      <td>4</td>\n",
       "      <td>0</td>\n",
       "      <td>0</td>\n",
       "      <td>0</td>\n",
       "      <td>4</td>\n",
       "      <td>1</td>\n",
       "    </tr>\n",
       "    <tr>\n",
       "      <td>4</td>\n",
       "      <td>0</td>\n",
       "      <td>1</td>\n",
       "      <td>1</td>\n",
       "      <td>1</td>\n",
       "      <td>0</td>\n",
       "      <td>2</td>\n",
       "      <td>1</td>\n",
       "      <td>0</td>\n",
       "      <td>0</td>\n",
       "      <td>7</td>\n",
       "      <td>2</td>\n",
       "    </tr>\n",
       "    <tr>\n",
       "      <td>5</td>\n",
       "      <td>1</td>\n",
       "      <td>1</td>\n",
       "      <td>1</td>\n",
       "      <td>1</td>\n",
       "      <td>0</td>\n",
       "      <td>2</td>\n",
       "      <td>0</td>\n",
       "      <td>0</td>\n",
       "      <td>0</td>\n",
       "      <td>2</td>\n",
       "      <td>1</td>\n",
       "    </tr>\n",
       "  </tbody>\n",
       "</table>\n",
       "</div>"
      ],
      "text/plain": [
       "   UNDERINFL  WEATHER  ROADCOND  LIGHTCOND  SPEEDING  VEHCOUNT  INJURIES  \\\n",
       "0          0        3         1          1         0         2         1   \n",
       "2          0        1         1          1         0         2         0   \n",
       "3          0        4         3          4         0         4         0   \n",
       "4          0        1         1          1         0         2         1   \n",
       "5          1        1         1          1         0         2         0   \n",
       "\n",
       "   SERIOUSINJURIES  FATALITIES  SEVERITY  SEV  \n",
       "0                0           0         7    2  \n",
       "2                0           0         2    1  \n",
       "3                0           0         4    1  \n",
       "4                0           0         7    2  \n",
       "5                0           0         2    1  "
      ]
     },
     "execution_count": 116,
     "metadata": {},
     "output_type": "execute_result"
    }
   ],
   "source": [
    "df.head()"
   ]
  },
  {
   "cell_type": "markdown",
   "metadata": {},
   "source": [
    "Now, we have a tidy dataset ready for analysis and machine learning processing. Now we can check how does the dataset variate. From the boxplot above, we can see that we expect that the most frequent variable are those with lower values, those values were defined un purpose like that for the most common weather, light and road conditions.\n",
    "Also, we clearly see that some columns have almost for every case the same value. Those columns are: \n",
    "- Under Influence of alcohol or drugs: Almost all the cases correspond to 0 that means no influence at all.\n",
    "- Speeding: Almost all the cases correspond to 0, that means no exceed in the speed limit.\n",
    "- Vehcount: Almost all the cases only imply two cars in the accident.\n",
    "\n",
    "For these columns there are more values, since there are just a few, those values are marked as outliers and are not shown in this plot"
   ]
  },
  {
   "cell_type": "code",
   "execution_count": 117,
   "metadata": {},
   "outputs": [
    {
     "data": {
      "image/png": "[encoded data removed]",
      "text/plain": [
       "<Figure size 432x288 with 1 Axes>"
      ]
     },
     "metadata": {
      "needs_background": "light"
     },
     "output_type": "display_data"
    }
   ],
   "source": [
    "ax = sns.boxplot(data=df.iloc[:,:-5], orient=\"h\", palette=\"Set2\", showfliers = False)"
   ]
  },
  {
   "cell_type": "markdown",
   "metadata": {},
   "source": [
    "### 3.1 Severity"
   ]
  },
  {
   "cell_type": "markdown",
   "metadata": {},
   "source": [
    "One of the most important data columns in the dataset is the \"Severity\" column. From the plot below we can see the most of the values range between 0 and 12. Being the 50% of the data between 2 and 6 in the severity scale. This means almost all the values are in the type 1 and type 2 in the categorical scale of severity."
   ]
  },
  {
   "cell_type": "code",
   "execution_count": 118,
   "metadata": {
    "scrolled": true
   },
   "outputs": [
    {
     "data": {
      "image/png": "[encoded data removed]",
      "text/plain": [
       "<Figure size 432x288 with 1 Axes>"
      ]
     },
     "metadata": {
      "needs_background": "light"
     },
     "output_type": "display_data"
    }
   ],
   "source": [
    "ax = sns.boxplot(x=df['SEVERITY'], showfliers = False, color = 'tab:green')"
   ]
  },
  {
   "cell_type": "markdown",
   "metadata": {},
   "source": [
    "For better apreciation, the plot shows the difference in frequence of the types of categorical severity of the accident. As we told, type 1 and type 2 are the most frequent ones, this is telling that for most of the cases there are no injuries or just a few of them with no seriuos injuries or fatalities."
   ]
  },
  {
   "cell_type": "code",
   "execution_count": 119,
   "metadata": {},
   "outputs": [
    {
     "data": {
      "text/plain": [
       "<matplotlib.axes._subplots.AxesSubplot at 0xa15b9d0>"
      ]
     },
     "execution_count": 119,
     "metadata": {},
     "output_type": "execute_result"
    },
    {
     "data": {
      "image/png": "[encoded data removed]",
      "text/plain": [
       "<Figure size 432x288 with 1 Axes>"
      ]
     },
     "metadata": {
      "needs_background": "light"
     },
     "output_type": "display_data"
    }
   ],
   "source": [
    "CountStatus = pd.value_counts(df['SEV'].values, sort=True)\n",
    "CountStatus.plot.barh(colors=['tab:blue', 'tab:orange', 'tab:green', 'tab:red', 'tab:purple', 'tab:olive'])"
   ]
  },
  {
   "cell_type": "markdown",
   "metadata": {},
   "source": [
    "We can check what are the most frequent Collision types present in the dataset. There are a lot of different collision type but he most frequent car accidents involved a parked car. Rear end and angles were also a very frequent collision type"
   ]
  },
  {
   "cell_type": "code",
   "execution_count": 120,
   "metadata": {
    "scrolled": true
   },
   "outputs": [
    {
     "data": {
      "text/plain": [
       "<matplotlib.axes._subplots.AxesSubplot at 0xa198370>"
      ]
     },
     "execution_count": 120,
     "metadata": {},
     "output_type": "execute_result"
    },
    {
     "data": {
      "image/png": "[encoded data removed]",
      "text/plain": [
       "<Figure size 432x288 with 1 Axes>"
      ]
     },
     "metadata": {
      "needs_background": "light"
     },
     "output_type": "display_data"
    }
   ],
   "source": [
    "CountStatus = pd.value_counts(dfInfo['COLLISIONTYPE'].values, sort=True)\n",
    "CountStatus.plot.barh()"
   ]
  },
  {
   "cell_type": "markdown",
   "metadata": {},
   "source": [
    "Now looking to the severity description, we realize that the frequency labels and the frequency values on them look similar to the values proposed to the labels created with the involved vehicles, injuries and fatalities."
   ]
  },
  {
   "cell_type": "code",
   "execution_count": 121,
   "metadata": {
    "scrolled": false
   },
   "outputs": [
    {
     "data": {
      "text/plain": [
       "<matplotlib.axes._subplots.AxesSubplot at 0xa1def70>"
      ]
     },
     "execution_count": 121,
     "metadata": {},
     "output_type": "execute_result"
    },
    {
     "data": {
      "image/png": "[encoded data removed]",
      "text/plain": [
       "<Figure size 432x288 with 1 Axes>"
      ]
     },
     "metadata": {
      "needs_background": "light"
     },
     "output_type": "display_data"
    }
   ],
   "source": [
    "CountStatus = pd.value_counts(dfInfo['SEVERITYDESC'].values, sort=True)\n",
    "CountStatus.plot.barh()"
   ]
  },
  {
   "cell_type": "markdown",
   "metadata": {},
   "source": [
    "### 3.2 Under the influence of drugs or alcohol"
   ]
  },
  {
   "cell_type": "code",
   "execution_count": 122,
   "metadata": {},
   "outputs": [
    {
     "data": {
      "text/html": [
       "<div>\n",
       "<style scoped>\n",
       "    .dataframe tbody tr th:only-of-type {\n",
       "        vertical-align: middle;\n",
       "    }\n",
       "\n",
       "    .dataframe tbody tr th {\n",
       "        vertical-align: top;\n",
       "    }\n",
       "\n",
       "    .dataframe thead th {\n",
       "        text-align: right;\n",
       "    }\n",
       "</style>\n",
       "<table border=\"1\" class=\"dataframe\">\n",
       "  <thead>\n",
       "    <tr style=\"text-align: right;\">\n",
       "      <th></th>\n",
       "      <th>INJURIES</th>\n",
       "      <th>SERIOUSINJURIES</th>\n",
       "      <th>FATALITIES</th>\n",
       "    </tr>\n",
       "    <tr>\n",
       "      <th>UNDERINFL</th>\n",
       "      <th></th>\n",
       "      <th></th>\n",
       "      <th></th>\n",
       "    </tr>\n",
       "  </thead>\n",
       "  <tbody>\n",
       "    <tr>\n",
       "      <td>0</td>\n",
       "      <td>96.040737</td>\n",
       "      <td>3.631232</td>\n",
       "      <td>0.328031</td>\n",
       "    </tr>\n",
       "    <tr>\n",
       "      <td>1</td>\n",
       "      <td>90.746934</td>\n",
       "      <td>7.612677</td>\n",
       "      <td>1.640389</td>\n",
       "    </tr>\n",
       "  </tbody>\n",
       "</table>\n",
       "</div>"
      ],
      "text/plain": [
       "            INJURIES  SERIOUSINJURIES  FATALITIES\n",
       "UNDERINFL                                        \n",
       "0          96.040737         3.631232    0.328031\n",
       "1          90.746934         7.612677    1.640389"
      ]
     },
     "execution_count": 122,
     "metadata": {},
     "output_type": "execute_result"
    }
   ],
   "source": [
    "total = (df.groupby(['UNDERINFL'])['INJURIES', 'SERIOUSINJURIES', 'FATALITIES'].sum()).sum(axis=1).values\n",
    "influence = df.groupby(['UNDERINFL'])['INJURIES', 'SERIOUSINJURIES', 'FATALITIES'].sum()\n",
    "influence.iloc[0,0:3] = influence.iloc[0,0:3].div(total[0]/100)\n",
    "influence.iloc[1,0:3] = influence.iloc[1,0:3].div(total[1]/100)\n",
    "influence"
   ]
  },
  {
   "cell_type": "markdown",
   "metadata": {},
   "source": [
    "From the analysis from the influence of drugs or alcohol, as expected, we detected that in case of accident, drunk or on drug people driving have a 4% extra of probability of having serious injuries and 1% more for death rate according to the observations in the dataset."
   ]
  },
  {
   "cell_type": "markdown",
   "metadata": {},
   "source": [
    "### 3.3 Weather"
   ]
  },
  {
   "cell_type": "code",
   "execution_count": 123,
   "metadata": {},
   "outputs": [],
   "source": [
    "# Dictionary of reference for replacement in weather\n",
    "cleanup_nums = {\"WEATHER\": {\"Clear\": 1, \"Partly Cloudy\": 2, \"Overcast\": 3, \"Raining\": 4,\n",
    "                             \"Severe Crosswind\": 5, \"Sleet/Hail/Freezing Rain\": 6, \"Snowing\": 7, \n",
    "                            \"Fog/Smog/Smoke\": 8, \"Blowing Sand/Dirt\": 9, \"Other\": 10, \"Unknown\": 10}}"
   ]
  },
  {
   "cell_type": "code",
   "execution_count": 124,
   "metadata": {
    "scrolled": false
   },
   "outputs": [
    {
     "data": {
      "text/html": [
       "<div>\n",
       "<style scoped>\n",
       "    .dataframe tbody tr th:only-of-type {\n",
       "        vertical-align: middle;\n",
       "    }\n",
       "\n",
       "    .dataframe tbody tr th {\n",
       "        vertical-align: top;\n",
       "    }\n",
       "\n",
       "    .dataframe thead th {\n",
       "        text-align: right;\n",
       "    }\n",
       "</style>\n",
       "<table border=\"1\" class=\"dataframe\">\n",
       "  <thead>\n",
       "    <tr style=\"text-align: right;\">\n",
       "      <th></th>\n",
       "      <th>INJURIES</th>\n",
       "      <th>SERIOUSINJURIES</th>\n",
       "      <th>FATALITIES</th>\n",
       "      <th>Reported cases</th>\n",
       "    </tr>\n",
       "    <tr>\n",
       "      <th>WEATHER</th>\n",
       "      <th></th>\n",
       "      <th></th>\n",
       "      <th></th>\n",
       "      <th></th>\n",
       "    </tr>\n",
       "  </thead>\n",
       "  <tbody>\n",
       "    <tr>\n",
       "      <td>1</td>\n",
       "      <td>95.444217</td>\n",
       "      <td>4.101322</td>\n",
       "      <td>0.454461</td>\n",
       "      <td>53690</td>\n",
       "    </tr>\n",
       "    <tr>\n",
       "      <td>2</td>\n",
       "      <td>100.000000</td>\n",
       "      <td>0.000000</td>\n",
       "      <td>0.000000</td>\n",
       "      <td>7</td>\n",
       "    </tr>\n",
       "    <tr>\n",
       "      <td>3</td>\n",
       "      <td>95.744188</td>\n",
       "      <td>3.831003</td>\n",
       "      <td>0.424809</td>\n",
       "      <td>12947</td>\n",
       "    </tr>\n",
       "    <tr>\n",
       "      <td>4</td>\n",
       "      <td>96.217595</td>\n",
       "      <td>3.460628</td>\n",
       "      <td>0.321778</td>\n",
       "      <td>16471</td>\n",
       "    </tr>\n",
       "    <tr>\n",
       "      <td>5</td>\n",
       "      <td>88.888889</td>\n",
       "      <td>0.000000</td>\n",
       "      <td>11.111111</td>\n",
       "      <td>9</td>\n",
       "    </tr>\n",
       "    <tr>\n",
       "      <td>6</td>\n",
       "      <td>96.078431</td>\n",
       "      <td>3.921569</td>\n",
       "      <td>0.000000</td>\n",
       "      <td>51</td>\n",
       "    </tr>\n",
       "    <tr>\n",
       "      <td>7</td>\n",
       "      <td>95.515695</td>\n",
       "      <td>4.484305</td>\n",
       "      <td>0.000000</td>\n",
       "      <td>223</td>\n",
       "    </tr>\n",
       "    <tr>\n",
       "      <td>8</td>\n",
       "      <td>96.654275</td>\n",
       "      <td>1.858736</td>\n",
       "      <td>1.486989</td>\n",
       "      <td>269</td>\n",
       "    </tr>\n",
       "    <tr>\n",
       "      <td>9</td>\n",
       "      <td>100.000000</td>\n",
       "      <td>0.000000</td>\n",
       "      <td>0.000000</td>\n",
       "      <td>17</td>\n",
       "    </tr>\n",
       "    <tr>\n",
       "      <td>10</td>\n",
       "      <td>95.746388</td>\n",
       "      <td>3.932584</td>\n",
       "      <td>0.321027</td>\n",
       "      <td>1246</td>\n",
       "    </tr>\n",
       "  </tbody>\n",
       "</table>\n",
       "</div>"
      ],
      "text/plain": [
       "           INJURIES  SERIOUSINJURIES  FATALITIES  Reported cases\n",
       "WEATHER                                                         \n",
       "1         95.444217         4.101322    0.454461           53690\n",
       "2        100.000000         0.000000    0.000000               7\n",
       "3         95.744188         3.831003    0.424809           12947\n",
       "4         96.217595         3.460628    0.321778           16471\n",
       "5         88.888889         0.000000   11.111111               9\n",
       "6         96.078431         3.921569    0.000000              51\n",
       "7         95.515695         4.484305    0.000000             223\n",
       "8         96.654275         1.858736    1.486989             269\n",
       "9        100.000000         0.000000    0.000000              17\n",
       "10        95.746388         3.932584    0.321027            1246"
      ]
     },
     "execution_count": 124,
     "metadata": {},
     "output_type": "execute_result"
    }
   ],
   "source": [
    "total = (df.groupby(['WEATHER'])['INJURIES', 'SERIOUSINJURIES', 'FATALITIES'].sum()).sum(axis=1).values\n",
    "weather = df.groupby([\"WEATHER\"])['INJURIES', 'SERIOUSINJURIES', 'FATALITIES'].sum()\n",
    "for i in range(weather.shape[0]):\n",
    "    weather.iloc[i,0:3] = weather.iloc[i,0:3].div(total[i]/100)\n",
    "weather['Reported cases']=total\n",
    "weather"
   ]
  },
  {
   "cell_type": "markdown",
   "metadata": {},
   "source": [
    "From the Weahter analysis, we can conclude that the most dangerous weather for driving is \"Severe Crosswind\" (8) beacause from all the cases registered in this weather, 11.11% of cases ended up in fatalities. The least dangerous weather is \"Partly cloudy\" with only minor injuries in car accidents."
   ]
  },
  {
   "cell_type": "markdown",
   "metadata": {},
   "source": [
    "### 3.4 Road conditions"
   ]
  },
  {
   "cell_type": "code",
   "execution_count": 125,
   "metadata": {},
   "outputs": [],
   "source": [
    "# Dictionary of reference for replacement in weather\n",
    "cleanup_nums = {\"ROADCOND\": {\"Dry\": 1, \"Sand/Mud/Dirt\": 2, \"Wet\": 3, \"Standing Water\": 4,  \"Snow/Slush\": 5, \n",
    "                             \"Ice\": 6, \"Oil\": 7, \"Other\": 8, \"Unknown\": 8}}"
   ]
  },
  {
   "cell_type": "code",
   "execution_count": 126,
   "metadata": {},
   "outputs": [
    {
     "data": {
      "text/html": [
       "<div>\n",
       "<style scoped>\n",
       "    .dataframe tbody tr th:only-of-type {\n",
       "        vertical-align: middle;\n",
       "    }\n",
       "\n",
       "    .dataframe tbody tr th {\n",
       "        vertical-align: top;\n",
       "    }\n",
       "\n",
       "    .dataframe thead th {\n",
       "        text-align: right;\n",
       "    }\n",
       "</style>\n",
       "<table border=\"1\" class=\"dataframe\">\n",
       "  <thead>\n",
       "    <tr style=\"text-align: right;\">\n",
       "      <th></th>\n",
       "      <th>INJURIES</th>\n",
       "      <th>SERIOUSINJURIES</th>\n",
       "      <th>FATALITIES</th>\n",
       "      <th>Reported cases</th>\n",
       "    </tr>\n",
       "    <tr>\n",
       "      <th>ROADCOND</th>\n",
       "      <th></th>\n",
       "      <th></th>\n",
       "      <th></th>\n",
       "      <th></th>\n",
       "    </tr>\n",
       "  </thead>\n",
       "  <tbody>\n",
       "    <tr>\n",
       "      <td>1</td>\n",
       "      <td>95.444009</td>\n",
       "      <td>4.079046</td>\n",
       "      <td>0.476945</td>\n",
       "      <td>59965</td>\n",
       "    </tr>\n",
       "    <tr>\n",
       "      <td>2</td>\n",
       "      <td>100.000000</td>\n",
       "      <td>0.000000</td>\n",
       "      <td>0.000000</td>\n",
       "      <td>28</td>\n",
       "    </tr>\n",
       "    <tr>\n",
       "      <td>3</td>\n",
       "      <td>96.132287</td>\n",
       "      <td>3.552949</td>\n",
       "      <td>0.314764</td>\n",
       "      <td>23192</td>\n",
       "    </tr>\n",
       "    <tr>\n",
       "      <td>4</td>\n",
       "      <td>92.857143</td>\n",
       "      <td>7.142857</td>\n",
       "      <td>0.000000</td>\n",
       "      <td>42</td>\n",
       "    </tr>\n",
       "    <tr>\n",
       "      <td>5</td>\n",
       "      <td>96.694215</td>\n",
       "      <td>3.305785</td>\n",
       "      <td>0.000000</td>\n",
       "      <td>242</td>\n",
       "    </tr>\n",
       "    <tr>\n",
       "      <td>6</td>\n",
       "      <td>94.890511</td>\n",
       "      <td>4.866180</td>\n",
       "      <td>0.243309</td>\n",
       "      <td>411</td>\n",
       "    </tr>\n",
       "    <tr>\n",
       "      <td>7</td>\n",
       "      <td>100.000000</td>\n",
       "      <td>0.000000</td>\n",
       "      <td>0.000000</td>\n",
       "      <td>35</td>\n",
       "    </tr>\n",
       "    <tr>\n",
       "      <td>8</td>\n",
       "      <td>96.650246</td>\n",
       "      <td>3.251232</td>\n",
       "      <td>0.098522</td>\n",
       "      <td>1015</td>\n",
       "    </tr>\n",
       "  </tbody>\n",
       "</table>\n",
       "</div>"
      ],
      "text/plain": [
       "            INJURIES  SERIOUSINJURIES  FATALITIES  Reported cases\n",
       "ROADCOND                                                         \n",
       "1          95.444009         4.079046    0.476945           59965\n",
       "2         100.000000         0.000000    0.000000              28\n",
       "3          96.132287         3.552949    0.314764           23192\n",
       "4          92.857143         7.142857    0.000000              42\n",
       "5          96.694215         3.305785    0.000000             242\n",
       "6          94.890511         4.866180    0.243309             411\n",
       "7         100.000000         0.000000    0.000000              35\n",
       "8          96.650246         3.251232    0.098522            1015"
      ]
     },
     "execution_count": 126,
     "metadata": {},
     "output_type": "execute_result"
    }
   ],
   "source": [
    "total = (df.groupby(['ROADCOND'])['INJURIES', 'SERIOUSINJURIES', 'FATALITIES'].sum()).sum(axis=1).values\n",
    "roadCond = df.groupby(['ROADCOND'])['INJURIES', 'SERIOUSINJURIES', 'FATALITIES'].sum()\n",
    "for i in range(roadCond.shape[0]):\n",
    "    roadCond.iloc[i,0:3] = roadCond.iloc[i,0:3].div(total[i]/100)\n",
    "roadCond['Reported cases']=total\n",
    "roadCond"
   ]
  },
  {
   "cell_type": "markdown",
   "metadata": {},
   "source": [
    "In general, it seems that the road conditions are not very related to fatalities since we see very small proportion related to it. From the dataset of Seattle, the most sever accidents happened in \"standing water\" roads. On the other, surprinsingly most of the cases occured on dry roads."
   ]
  },
  {
   "cell_type": "markdown",
   "metadata": {},
   "source": [
    "### 3.5 Light conditions"
   ]
  },
  {
   "cell_type": "code",
   "execution_count": 127,
   "metadata": {},
   "outputs": [],
   "source": [
    "# Dictionary of reference for replacement in weather\n",
    "cleanup_nums = {\"LIGHTCOND\": {\"Daylight\": 1, \"Dawn\": 2, \"Dusk\": 3, \"Dark - Street Lights On\": 4, \n",
    "                              \"Dark - Unknown Lighting\": 7, \"Dark - Street Lights Off\": 6,\n",
    "                              \"Dark - No Street Lights\": 5,\"Other\": 8, \"Unknown\": 8}}"
   ]
  },
  {
   "cell_type": "code",
   "execution_count": 128,
   "metadata": {
    "scrolled": true
   },
   "outputs": [
    {
     "data": {
      "text/html": [
       "<div>\n",
       "<style scoped>\n",
       "    .dataframe tbody tr th:only-of-type {\n",
       "        vertical-align: middle;\n",
       "    }\n",
       "\n",
       "    .dataframe tbody tr th {\n",
       "        vertical-align: top;\n",
       "    }\n",
       "\n",
       "    .dataframe thead th {\n",
       "        text-align: right;\n",
       "    }\n",
       "</style>\n",
       "<table border=\"1\" class=\"dataframe\">\n",
       "  <thead>\n",
       "    <tr style=\"text-align: right;\">\n",
       "      <th></th>\n",
       "      <th>INJURIES</th>\n",
       "      <th>SERIOUSINJURIES</th>\n",
       "      <th>FATALITIES</th>\n",
       "      <th>Reported cases</th>\n",
       "    </tr>\n",
       "    <tr>\n",
       "      <th>LIGHTCOND</th>\n",
       "      <th></th>\n",
       "      <th></th>\n",
       "      <th></th>\n",
       "      <th></th>\n",
       "    </tr>\n",
       "  </thead>\n",
       "  <tbody>\n",
       "    <tr>\n",
       "      <td>1</td>\n",
       "      <td>96.242826</td>\n",
       "      <td>3.443634</td>\n",
       "      <td>0.313541</td>\n",
       "      <td>56452</td>\n",
       "    </tr>\n",
       "    <tr>\n",
       "      <td>2</td>\n",
       "      <td>94.380165</td>\n",
       "      <td>5.206612</td>\n",
       "      <td>0.413223</td>\n",
       "      <td>1210</td>\n",
       "    </tr>\n",
       "    <tr>\n",
       "      <td>3</td>\n",
       "      <td>95.399516</td>\n",
       "      <td>4.081633</td>\n",
       "      <td>0.518852</td>\n",
       "      <td>2891</td>\n",
       "    </tr>\n",
       "    <tr>\n",
       "      <td>4</td>\n",
       "      <td>94.305797</td>\n",
       "      <td>4.991325</td>\n",
       "      <td>0.702878</td>\n",
       "      <td>22479</td>\n",
       "    </tr>\n",
       "    <tr>\n",
       "      <td>5</td>\n",
       "      <td>94.455067</td>\n",
       "      <td>5.353728</td>\n",
       "      <td>0.191205</td>\n",
       "      <td>523</td>\n",
       "    </tr>\n",
       "    <tr>\n",
       "      <td>6</td>\n",
       "      <td>93.415638</td>\n",
       "      <td>5.761317</td>\n",
       "      <td>0.823045</td>\n",
       "      <td>486</td>\n",
       "    </tr>\n",
       "    <tr>\n",
       "      <td>7</td>\n",
       "      <td>100.000000</td>\n",
       "      <td>0.000000</td>\n",
       "      <td>0.000000</td>\n",
       "      <td>11</td>\n",
       "    </tr>\n",
       "    <tr>\n",
       "      <td>8</td>\n",
       "      <td>96.355353</td>\n",
       "      <td>3.530752</td>\n",
       "      <td>0.113895</td>\n",
       "      <td>878</td>\n",
       "    </tr>\n",
       "  </tbody>\n",
       "</table>\n",
       "</div>"
      ],
      "text/plain": [
       "             INJURIES  SERIOUSINJURIES  FATALITIES  Reported cases\n",
       "LIGHTCOND                                                         \n",
       "1           96.242826         3.443634    0.313541           56452\n",
       "2           94.380165         5.206612    0.413223            1210\n",
       "3           95.399516         4.081633    0.518852            2891\n",
       "4           94.305797         4.991325    0.702878           22479\n",
       "5           94.455067         5.353728    0.191205             523\n",
       "6           93.415638         5.761317    0.823045             486\n",
       "7          100.000000         0.000000    0.000000              11\n",
       "8           96.355353         3.530752    0.113895             878"
      ]
     },
     "execution_count": 128,
     "metadata": {},
     "output_type": "execute_result"
    }
   ],
   "source": [
    "total = (df.groupby(['LIGHTCOND'])['INJURIES', 'SERIOUSINJURIES', 'FATALITIES'].sum()).sum(axis=1).values\n",
    "lightCond = df.groupby(['LIGHTCOND'])['INJURIES', 'SERIOUSINJURIES', 'FATALITIES'].sum()\n",
    "for i in range(lightCond.shape[0]):\n",
    "    lightCond.iloc[i,0:3] = lightCond.iloc[i,0:3].div(total[i]/100)\n",
    "lightCond['Reported cases']=total\n",
    "lightCond"
   ]
  },
  {
   "cell_type": "markdown",
   "metadata": {},
   "source": [
    "In the case of light conditions, the observed data for all cases was approximately the same. From all the features listed this is the least significant to the prediction."
   ]
  },
  {
   "cell_type": "markdown",
   "metadata": {},
   "source": [
    "### 3.6 Speeding"
   ]
  },
  {
   "cell_type": "code",
   "execution_count": 129,
   "metadata": {},
   "outputs": [
    {
     "data": {
      "text/html": [
       "<div>\n",
       "<style scoped>\n",
       "    .dataframe tbody tr th:only-of-type {\n",
       "        vertical-align: middle;\n",
       "    }\n",
       "\n",
       "    .dataframe tbody tr th {\n",
       "        vertical-align: top;\n",
       "    }\n",
       "\n",
       "    .dataframe thead th {\n",
       "        text-align: right;\n",
       "    }\n",
       "</style>\n",
       "<table border=\"1\" class=\"dataframe\">\n",
       "  <thead>\n",
       "    <tr style=\"text-align: right;\">\n",
       "      <th></th>\n",
       "      <th>INJURIES</th>\n",
       "      <th>SERIOUSINJURIES</th>\n",
       "      <th>FATALITIES</th>\n",
       "    </tr>\n",
       "    <tr>\n",
       "      <th>SPEEDING</th>\n",
       "      <th></th>\n",
       "      <th></th>\n",
       "      <th></th>\n",
       "    </tr>\n",
       "  </thead>\n",
       "  <tbody>\n",
       "    <tr>\n",
       "      <td>0</td>\n",
       "      <td>95.998166</td>\n",
       "      <td>3.673230</td>\n",
       "      <td>0.328604</td>\n",
       "    </tr>\n",
       "    <tr>\n",
       "      <td>1</td>\n",
       "      <td>91.380923</td>\n",
       "      <td>7.013716</td>\n",
       "      <td>1.605362</td>\n",
       "    </tr>\n",
       "  </tbody>\n",
       "</table>\n",
       "</div>"
      ],
      "text/plain": [
       "           INJURIES  SERIOUSINJURIES  FATALITIES\n",
       "SPEEDING                                        \n",
       "0         95.998166         3.673230    0.328604\n",
       "1         91.380923         7.013716    1.605362"
      ]
     },
     "execution_count": 129,
     "metadata": {},
     "output_type": "execute_result"
    }
   ],
   "source": [
    "total = (df.groupby(['SPEEDING'])['INJURIES', 'SERIOUSINJURIES', 'FATALITIES'].sum()).sum(axis=1).values\n",
    "speed = df.groupby(['SPEEDING'])['INJURIES', 'SERIOUSINJURIES', 'FATALITIES'].sum()\n",
    "speed.iloc[0,0:3] = speed.iloc[0,0:3].div(total[0]/100)\n",
    "speed.iloc[1,0:3] = speed.iloc[1,0:3].div(total[1]/100)\n",
    "speed"
   ]
  },
  {
   "cell_type": "markdown",
   "metadata": {},
   "source": [
    "Finally, for the speed exceeding cases, just as the influence of alcohol or drugs, the percentage of serious injuries and fatalities grows 1% and 4% respectively."
   ]
  },
  {
   "cell_type": "markdown",
   "metadata": {},
   "source": [
    "## 4. Predictive Modeling"
   ]
  },
  {
   "cell_type": "markdown",
   "metadata": {},
   "source": [
    "Before starting with the data modeling, a preprocessing of the data is needed. For this stage, the x and y matrix are declared for the data split. We've chosen to use the 85% of the data for training and 15% for testing. The data was standarized for algorithm's convergence purposes."
   ]
  },
  {
   "cell_type": "code",
   "execution_count": 130,
   "metadata": {},
   "outputs": [],
   "source": [
    "X = df[['UNDERINFL', 'WEATHER', 'ROADCOND', 'LIGHTCOND', 'SPEEDING']].values\n",
    "y = df['SEV']\n",
    "#X = preprocessing.StandardScaler().fit(X).transform(X)\n",
    "X_train, X_test, y_train, y_test = train_test_split(X, y, test_size=0.15, random_state=1)"
   ]
  },
  {
   "cell_type": "markdown",
   "metadata": {},
   "source": [
    "Different algorithms were applied with different set of parameters for finding the best fit of the data:\n",
    "    - K - Nearest Neighbor classifier: The KNN algorithm was applied for different k neighbors from 1 to 10. The best accuracy was reached with 5 nearest neighbors with an accuracy of 0.6844.\n",
    "    - Decision Tree classifier: The decision tree classifier was appield for different depths between 1 and 10. For all the values the f-1 score and jaccard index were approximately the same, the variation between them is not significant so we can choose any value of depth for the best model with and accuracy of 0.6867.\n",
    "    - SVM classifier: The SVM classifier was applied for different kernel functions (sigmoid, poly, rbf, linear). The f-1 score showed that the \"Sigmoid\" function reached a better performance with an accuracy of 0.571.\n",
    "    - Logistic regression: For the logistic regression a grid search of parameters was performed for different values of alpha (1,0.1,0.01,0.001,0.0001) and solvers ('liblinear', 'newton-cg', 'lbfgs', 'liblinear', 'sag', 'saga'). The value of alpha = 1 and the 'libinear' solver were the best fit of the data reaching a f-1 score of 0.5593."
   ]
  },
  {
   "cell_type": "markdown",
   "metadata": {},
   "source": [
    "### 4.1 K - Nearest Neighbor classifier"
   ]
  },
  {
   "cell_type": "code",
   "execution_count": 131,
   "metadata": {},
   "outputs": [],
   "source": [
    "from sklearn.neighbors import KNeighborsClassifier as knn\n",
    "from sklearn.metrics import accuracy_score\n",
    "\n",
    "ks = range(1, 10)\n",
    "mean_accuracy = []\n",
    "\n",
    "for n in ks:\n",
    "    knn_model  = knn(n_neighbors = n)\n",
    "    knn_model.fit(X_train, y_train)\n",
    "    knn_yhat = knn_model.predict(X_test)\n",
    "    mean_accuracy.append(accuracy_score(y_test, knn_yhat))"
   ]
  },
  {
   "cell_type": "code",
   "execution_count": 132,
   "metadata": {},
   "outputs": [
    {
     "name": "stdout",
     "output_type": "stream",
     "text": [
      "k = 1 has a Score = 0.44123300837566937 \n",
      "k = 2 has a Score = 0.49241384045036385 \n",
      "k = 3 has a Score = 0.49045722916380613 \n",
      "k = 4 has a Score = 0.4985239599066319 \n",
      "k = 5 has a Score = 0.6844706851572154 \n",
      "k = 6 has a Score = 0.6535768227378828 \n",
      "k = 7 has a Score = 0.6841617465330221 \n",
      "k = 8 has a Score = 0.6851572154332006 \n",
      "k = 9 has a Score = 0.6848826033228065 \n"
     ]
    }
   ],
   "source": [
    "for i in range(0, len(mean_accuracy)):\n",
    "    print(\"k = {} has a Score = {} \".format(i+1, mean_accuracy[i]))"
   ]
  },
  {
   "cell_type": "code",
   "execution_count": 133,
   "metadata": {},
   "outputs": [
    {
     "data": {
      "text/plain": [
       "Text(0, 0.5, 'Testing Accuracy Values')"
      ]
     },
     "execution_count": 133,
     "metadata": {},
     "output_type": "execute_result"
    },
    {
     "data": {
      "image/png": "[encoded data removed]",
      "text/plain": [
       "<Figure size 864x432 with 1 Axes>"
      ]
     },
     "metadata": {
      "needs_background": "light"
     },
     "output_type": "display_data"
    }
   ],
   "source": [
    "plt.figure(figsize=(12,6))\n",
    "plt.title(\"Testing accuracy for different values of K\")\n",
    "plt.plot(ks, mean_accuracy)\n",
    "plt.scatter(ks, mean_accuracy)\n",
    "plt.xlabel('Values of K')\n",
    "plt.ylabel('Testing Accuracy Values')"
   ]
  },
  {
   "cell_type": "code",
   "execution_count": 146,
   "metadata": {},
   "outputs": [
    {
     "name": "stdout",
     "output_type": "stream",
     "text": [
      "0.6844706851572154\n"
     ]
    }
   ],
   "source": [
    "knn_model = knn(n_neighbors = 5)\n",
    "knn_model.fit(X_train, y_train)\n",
    "knn_yhat = knn_model.predict(X_test)\n",
    "print(accuracy_score(y_test, knn_yhat))"
   ]
  },
  {
   "cell_type": "markdown",
   "metadata": {},
   "source": [
    "### 4.2 Decision Tree Classifier"
   ]
  },
  {
   "cell_type": "code",
   "execution_count": 215,
   "metadata": {},
   "outputs": [],
   "source": [
    "from sklearn.tree import DecisionTreeClassifier \n",
    "from sklearn.metrics import jaccard_similarity_score\n",
    "from sklearn.metrics import f1_score"
   ]
  },
  {
   "cell_type": "code",
   "execution_count": 216,
   "metadata": {},
   "outputs": [],
   "source": [
    "maxDepth = 10\n",
    "jaccards = []\n",
    "f1s = []\n",
    "\n",
    "for n in range(1,maxDepth):\n",
    "    drugTree = DecisionTreeClassifier(criterion=\"entropy\", max_depth = n)\n",
    "    drugTree.fit(X_train,y_train)\n",
    "    predTree = drugTree.predict(X_test)\n",
    "    f1s.append(f1_score(y_test, predTree, average='weighted'))\n",
    "    jaccards.append(jaccard_similarity_score(y_test, predTree))"
   ]
  },
  {
   "cell_type": "code",
   "execution_count": 218,
   "metadata": {},
   "outputs": [
    {
     "data": {
      "image/png": "[encoded data removed]",
      "text/plain": [
       "<Figure size 864x432 with 1 Axes>"
      ]
     },
     "metadata": {
      "needs_background": "light"
     },
     "output_type": "display_data"
    }
   ],
   "source": [
    "plt.figure(figsize=(12,6))\n",
    "plt.title(\"Testing f1-score and jaccard index for different depths\")\n",
    "plt.xlabel('Depth of the tree')  \n",
    "plt.ylabel('Testing Accuracy Values')\n",
    "plt.plot(jaccards, label = \"Jaccard's index\")\n",
    "plt.scatter(range(1,maxDepth),jaccards, label = \"Jaccard's index\")\n",
    "plt.plot(f1s, label = \"F-1 Score\")\n",
    "plt.scatter(range(1,maxDepth),f1s, label = \"F-1 Score\")\n",
    "plt.legend()\n",
    "plt.show()"
   ]
  },
  {
   "cell_type": "markdown",
   "metadata": {},
   "source": [
    "The range of variation between the output it's a really small values"
   ]
  },
  {
   "cell_type": "code",
   "execution_count": 141,
   "metadata": {},
   "outputs": [
    {
     "data": {
      "text/plain": [
       "0.000205959082795526"
      ]
     },
     "execution_count": 141,
     "metadata": {},
     "output_type": "execute_result"
    }
   ],
   "source": [
    "max(jaccards)-min(jaccards)"
   ]
  },
  {
   "cell_type": "code",
   "execution_count": 229,
   "metadata": {},
   "outputs": [
    {
     "data": {
      "text/plain": [
       "0.6867019085541672"
      ]
     },
     "execution_count": 229,
     "metadata": {},
     "output_type": "execute_result"
    }
   ],
   "source": [
    "max(jaccards)"
   ]
  },
  {
   "cell_type": "markdown",
   "metadata": {},
   "source": [
    "### 4.3 SVM Classifier"
   ]
  },
  {
   "cell_type": "code",
   "execution_count": 57,
   "metadata": {},
   "outputs": [],
   "source": [
    "from sklearn.svm import SVC \n",
    "from sklearn.metrics import jaccard_similarity_score\n",
    "from sklearn.metrics import f1_score\n",
    "\n",
    "import matplotlib.pyplot as plt\n",
    "%matplotlib inline"
   ]
  },
  {
   "cell_type": "code",
   "execution_count": 58,
   "metadata": {},
   "outputs": [],
   "source": [
    "kernel_func = ['sigmoid', 'poly', 'rbf', 'linear']\n",
    "accuracy_score = []\n",
    "\n",
    "for k in kernel_func:\n",
    "    svc_model = SVC(C = 0.01, gamma = 'auto', kernel = k)\n",
    "    svc_model.fit(X_train, y_train)\n",
    "    svc_yhat = svc_model.predict(X_test)\n",
    "    accuracy_score.append(f1_score(y_test, svc_yhat, average = 'weighted'))"
   ]
  },
  {
   "cell_type": "code",
   "execution_count": 59,
   "metadata": {},
   "outputs": [
    {
     "data": {
      "text/plain": [
       "Text(0, 0.5, 'Testing Accuracy Values')"
      ]
     },
     "execution_count": 59,
     "metadata": {},
     "output_type": "execute_result"
    },
    {
     "data": {
      "image/png": "[encoded data removed]",
      "text/plain": [
       "<Figure size 1440x720 with 1 Axes>"
      ]
     },
     "metadata": {
      "needs_background": "light"
     },
     "output_type": "display_data"
    }
   ],
   "source": [
    "plt.figure(figsize=(12,6))\n",
    "plt.title(\"Testing accuracy for different values of K\")\n",
    "plt.plot(kernel_func, accuracy_score)\n",
    "plt.scatter(kernel_func, accuracy_score)\n",
    "plt.xlabel('Values of K')\n",
    "plt.ylabel('Testing Accuracy Values')"
   ]
  },
  {
   "cell_type": "code",
   "execution_count": 222,
   "metadata": {},
   "outputs": [
    {
     "name": "stdout",
     "output_type": "stream",
     "text": [
      "0.5160782449179411\n"
     ]
    }
   ],
   "source": [
    "svc_model = SVC(C = 0.01, gamma = 'auto', kernel = 'sigmoid')\n",
    "svc_model.fit(X_train, y_train)\n",
    "svc_yhat = svc_model.predict(X_test)\n",
    "print(f1_score(y_test, svc_yhat, average = 'weighted'))"
   ]
  },
  {
   "cell_type": "markdown",
   "metadata": {},
   "source": [
    "### 4.4 Logistic Regression"
   ]
  },
  {
   "cell_type": "code",
   "execution_count": 65,
   "metadata": {},
   "outputs": [
    {
     "data": {
      "text/plain": [
       "GridSearchCV(cv=4, error_score='raise-deprecating',\n",
       "             estimator=LogisticRegression(C=1.0, class_weight=None, dual=False,\n",
       "                                          fit_intercept=True,\n",
       "                                          intercept_scaling=1, l1_ratio=None,\n",
       "                                          max_iter=100, multi_class='warn',\n",
       "                                          n_jobs=None, penalty='l2',\n",
       "                                          random_state=None, solver='warn',\n",
       "                                          tol=0.0001, verbose=0,\n",
       "                                          warm_start=False),\n",
       "             iid='warn', n_jobs=None,\n",
       "             param_grid=[{'C': [1, 0.1, 0.01, 0.001, 0.0001],\n",
       "                          'solver': ['liblinear', 'newton-cg', 'lbfgs',\n",
       "                                     'liblinear', 'sag', 'saga']}],\n",
       "             pre_dispatch='2*n_jobs', refit=True, return_train_score=False,\n",
       "             scoring=None, verbose=0)"
      ]
     },
     "execution_count": 65,
     "metadata": {},
     "output_type": "execute_result"
    }
   ],
   "source": [
    "from sklearn.linear_model import LogisticRegression\n",
    "from sklearn.model_selection import GridSearchCV\n",
    "\n",
    "parameters = [{'C':[1,0.1,0.01,0.001,0.0001],\n",
    "           'solver':['liblinear', 'newton-cg', 'lbfgs', 'liblinear', 'sag', 'saga']\n",
    "           }]\n",
    "LR = LogisticRegression()\n",
    "LR_Grid = GridSearchCV(LR, parameters,cv=4)\n",
    "LR_Grid.fit(X_train,y_train)"
   ]
  },
  {
   "cell_type": "code",
   "execution_count": 66,
   "metadata": {},
   "outputs": [
    {
     "name": "stdout",
     "output_type": "stream",
     "text": [
      "Grid Search yielded the best score for logistic regression as : 0.6861585805412019 with parameters : {'C': 1, 'solver': 'liblinear'}\n"
     ]
    }
   ],
   "source": [
    "print(f'Grid Search yielded the best score for logistic regression as : {LR_Grid.best_score_} with parameters : {LR_Grid.best_params_}')"
   ]
  },
  {
   "cell_type": "code",
   "execution_count": 224,
   "metadata": {},
   "outputs": [],
   "source": [
    "LR_model = LogisticRegression(C = 1, solver ='liblinear').fit(X_train, y_train)\n",
    "lr_yhat = LR_model.predict(X_test)"
   ]
  },
  {
   "cell_type": "code",
   "execution_count": 225,
   "metadata": {},
   "outputs": [
    {
     "name": "stdout",
     "output_type": "stream",
     "text": [
      "0.5593789865097983\n"
     ]
    }
   ],
   "source": [
    "print(f1_score(y_test, lr_yhat, average = 'weighted'))"
   ]
  },
  {
   "cell_type": "markdown",
   "metadata": {},
   "source": [
    "# 5. Conclusion"
   ]
  },
  {
   "cell_type": "markdown",
   "metadata": {},
   "source": [
    "From all the models above, the Decision Tree classifier was the most accurate classifier, also this algorithm is chosen for its interpretability, also is the fastest from the shown here. Since all the depth levels have almost the same accuracy, the depth chosen level is for. From the plot bellow we can estimate what are the most important factors in the classification category, hence the most significant variables in the severity of the accident. The first 4 factors in order of significance are:\n",
    "1. Road conditions\n",
    "2. Light conditions\n",
    "3. Influence of alcohol or drugs\n",
    "4. Weather\n",
    "*For document size capacity, the tree classifier was inly displayed for a two depth model plot"
   ]
  },
  {
   "cell_type": "code",
   "execution_count": 235,
   "metadata": {},
   "outputs": [
    {
     "data": {
      "image/png": "[encoded data removed]",
      "text/plain": [
       "<Figure size 1152x864 with 1 Axes>"
      ]
     },
     "metadata": {
      "needs_background": "light"
     },
     "output_type": "display_data"
    }
   ],
   "source": [
    "from sklearn import tree\n",
    "clf = tree.DecisionTreeClassifier(criterion=\"entropy\", max_depth = 2)\n",
    "clf = clf.fit(X_train,y_train)\n",
    "fig = plt.figure(figsize=(16,12))\n",
    "_ = tree.plot_tree(clf,\n",
    "                  feature_names = ['UNDERINFL', 'WEATHER', 'ROADCOND', 'LIGHTCOND', 'SPEEDING'],\n",
    "                  class_names = ['INJURIES','SERIOUSINJURIES','FATALITIES'],\n",
    "                  filled = True)"
   ]
  },
  {
   "cell_type": "code",
   "execution_count": 210,
   "metadata": {},
   "outputs": [],
   "source": [
    "from sklearn import tree\n",
    "clf = tree.DecisionTreeClassifier(criterion=\"entropy\", max_depth = 4)\n",
    "clf = clf.fit(X_train,y_train)"
   ]
  },
  {
   "cell_type": "markdown",
   "metadata": {},
   "source": [
    "Finally, two cases are predicted as an example of the interpretablity of the model of probabilities of the accident severity and how it is built. From the input, one person is able to estimate an expected probability for driving depending on the conditions of the environment for that particular case. The corresponding input is built from the answers of the following questions.\n",
    "\n",
    "\n",
    "a.- ¿Are you drunk or under the influence of drugs?\n",
    "    1. Yes\n",
    "    2. No\n",
    "    \n",
    "b.- What's the weather like?\n",
    "    1. Clear\n",
    "    2. Raining\n",
    "    3. Overcast\n",
    "    4. Snowing\n",
    "    5. Fog/Smog/Smoke\n",
    "    6. Sleet/Hail/Freezing Rain\n",
    "    7. Blowing Sand/Dirt\n",
    "    8. Severe Crosswind\n",
    "    9. Partly Cloudy\n",
    "    10. Other/Unknown\n",
    "\n",
    "c.- How would you define the road conditions?\n",
    "    1. Dry\n",
    "    2. Wet\n",
    "    3. Ice\n",
    "    4. Snow/Slush\n",
    "    5. Standing water\n",
    "    6. Sand/Mud/Dirt\n",
    "    7. Oil\n",
    "    8. Other/Unknown\n",
    "\n",
    "d. What are the light conditions?\n",
    "    1. Daylight\n",
    "    2. Dark – Street Lights On\n",
    "    3. Unknown\n",
    "    4. Dusk\n",
    "    5. Dawn\n",
    "    6. Dark – No Street Lights\n",
    "    7. Dark – Street Lights On\n",
    "    8. Dark – Unknown Lighting\n",
    "    9. Other\n",
    "\n",
    "e.- Are you in a hurry? Is it possible that you exceed the speed limit during your travel?\n",
    "    1. Yes\n",
    "    2. No    "
   ]
  },
  {
   "cell_type": "markdown",
   "metadata": {},
   "source": [
    "Now, we'll test the probabilities for three cases:\n",
    "- Optimistic scenario (0 2 1 1 0): No alcohol or drug influence, Partly cloudy weather, Dry road conditions, Daylight and no speed limit exceeded.\n",
    "- Pessimistic scenario (1, 5, 4, 6, 1): Alcohol or drug influence, Fog/Smog/Smoke,standing water road conditions, dark - street lights off, speed limit exceeded."
   ]
  },
  {
   "cell_type": "markdown",
   "metadata": {},
   "source": [
    "Optimistic scenario:"
   ]
  },
  {
   "cell_type": "code",
   "execution_count": 211,
   "metadata": {},
   "outputs": [
    {
     "data": {
      "text/plain": [
       "array([[0.66790953, 0.24217256, 0.07960288, 0.01031503]])"
      ]
     },
     "execution_count": 211,
     "metadata": {},
     "output_type": "execute_result"
    }
   ],
   "source": [
    "clf.predict_proba([[0, 2, 1, 1, 0]])"
   ]
  },
  {
   "cell_type": "markdown",
   "metadata": {},
   "source": [
    "Pessimistic scenario:"
   ]
  },
  {
   "cell_type": "code",
   "execution_count": 213,
   "metadata": {},
   "outputs": [
    {
     "data": {
      "text/plain": [
       "array([[0.45677966, 0.31186441, 0.15847458, 0.07288136]])"
      ]
     },
     "execution_count": 213,
     "metadata": {},
     "output_type": "execute_result"
    }
   ],
   "source": [
    "clf.predict_proba([[1, 5, 4, 6, 1]])"
   ]
  },
  {
   "cell_type": "markdown",
   "metadata": {},
   "source": [
    "For these scneario, of there is an accident the probababilities for the severity accidents are:\n",
    "\n",
    "Optimistic scenario:\n",
    "- Type 1 = 66.79%,\n",
    "- Type 2 = 24.21%\n",
    "- Type 3 = 7.96%\n",
    "- Type 4 = 1.03%\n",
    "Pessimistic scenario:\n",
    "- Type 1 = 45.67%,\n",
    "- Type 2 = 31.18%\n",
    "- Type 3 = 15.84%\n",
    "- Type 4 = 7.28%\n",
    "\n",
    "The severity accidents are:\n",
    "1. Type 1 (0 - 4): No incident or a few car crashes with no injuries or fatalities.\n",
    "2. Type 2 (5 - 9): One injured person and multiple car crashes.\n",
    "3. Type 3 (10 - 20): Multiple Injuries or a serious injured person, with multiple car crashes.\n",
    "4. Type 4 (>20): Sever accident. A lot of injured persons, more than one serious injured person or a fatality occurred"
   ]
  },
  {
   "cell_type": "markdown",
   "metadata": {},
   "source": [
    "## 6. Discusion"
   ]
  },
  {
   "cell_type": "markdown",
   "metadata": {},
   "source": [
    "a. Even though the prediction model gives reasonable results, the accuracy can be improved by changing different forms of measuring the severity of an accident since it’s really hard to find a way of predicting the severity of a road accident.\n",
    "b. A better prediction can be made by getting more data. Also getting more data of no incident drives.\n",
    "c. Using a different scale for the severity of a possible accident, different to the created here, could help for the accuracy of the predictions and a better"
   ]
  },
  {
   "cell_type": "markdown",
   "metadata": {},
   "source": [
    "## 7. References"
   ]
  },
  {
   "cell_type": "markdown",
   "metadata": {},
   "source": [
    "ASIRT, 2020 (Association for Safe International Road Travel): Annual United States Road Crash Statistics https://www.asirt.org/safe-travel/road-safety-facts/"
   ]
  },
  {
   "cell_type": "code",
   "execution_count": null,
   "metadata": {},
   "outputs": [],
   "source": []
  }
 ],
 "metadata": {
  "kernelspec": {
   "display_name": "Python 3",
   "language": "python",
   "name": "python3"
  },
  "language_info": {
   "codemirror_mode": {
    "name": "ipython",
    "version": 3
   },
   "file_extension": ".py",
   "mimetype": "text/x-python",
   "name": "python",
   "nbconvert_exporter": "python",
   "pygments_lexer": "ipython3",
   "version": "3.7.4"
  },
  "varInspector": {
   "cols": {
    "lenName": 16,
    "lenType": 16,
    "lenVar": 40
   },
   "kernels_config": {
    "python": {
     "delete_cmd_postfix": "",
     "delete_cmd_prefix": "del ",
     "library": "var_list.py",
     "varRefreshCmd": "print(var_dic_list())"
    },
    "r": {
     "delete_cmd_postfix": ") ",
     "delete_cmd_prefix": "rm(",
     "library": "var_list.r",
     "varRefreshCmd": "cat(var_dic_list()) "
    }
   },
   "types_to_exclude": [
    "module",
    "function",
    "builtin_function_or_method",
    "instance",
    "_Feature"
   ],
   "window_display": false
  }
 },
 "nbformat": 4,
 "nbformat_minor": 2
}
